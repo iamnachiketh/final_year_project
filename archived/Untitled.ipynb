{
 "cells": [
  {
   "cell_type": "code",
   "execution_count": 1,
   "id": "20ecd660",
   "metadata": {},
   "outputs": [],
   "source": [
    "import pandas as pd\n",
    "import plotly.express as px\n",
    "\n"
   ]
  },
  {
   "cell_type": "code",
   "execution_count": 3,
   "id": "30daa1ac",
   "metadata": {},
   "outputs": [],
   "source": [
    "df = pd.read_excel('nrg_cb_oil__custom_2059893_page_spreadsheet.xlsx',index_col=0)\n",
    "original_df = df\n",
    "#df[cols_list] = df[cols_list].apply(pd.to_numeric, errors='coerce', axis=1)\n",
    "df = df.melt(ignore_index=False).reset_index()\n",
    "df.rename(columns={'variable':'year','TIME':'country Name'},inplace=True)"
   ]
  },
  {
   "cell_type": "code",
   "execution_count": 3,
   "id": "de6e69bd",
   "metadata": {},
   "outputs": [
    {
     "data": {
      "text/html": [
       "<div>\n",
       "<style scoped>\n",
       "    .dataframe tbody tr th:only-of-type {\n",
       "        vertical-align: middle;\n",
       "    }\n",
       "\n",
       "    .dataframe tbody tr th {\n",
       "        vertical-align: top;\n",
       "    }\n",
       "\n",
       "    .dataframe thead th {\n",
       "        text-align: right;\n",
       "    }\n",
       "</style>\n",
       "<table border=\"1\" class=\"dataframe\">\n",
       "  <thead>\n",
       "    <tr style=\"text-align: right;\">\n",
       "      <th></th>\n",
       "      <th>country Name</th>\n",
       "      <th>year</th>\n",
       "      <th>value</th>\n",
       "    </tr>\n",
       "  </thead>\n",
       "  <tbody>\n",
       "    <tr>\n",
       "      <th>0</th>\n",
       "      <td>Belgium</td>\n",
       "      <td>1990</td>\n",
       "      <td>0.000</td>\n",
       "    </tr>\n",
       "    <tr>\n",
       "      <th>1</th>\n",
       "      <td>Bulgaria</td>\n",
       "      <td>1990</td>\n",
       "      <td>60.000</td>\n",
       "    </tr>\n",
       "    <tr>\n",
       "      <th>2</th>\n",
       "      <td>Czechia</td>\n",
       "      <td>1990</td>\n",
       "      <td>50.000</td>\n",
       "    </tr>\n",
       "    <tr>\n",
       "      <th>3</th>\n",
       "      <td>Denmark</td>\n",
       "      <td>1990</td>\n",
       "      <td>5994.000</td>\n",
       "    </tr>\n",
       "    <tr>\n",
       "      <th>4</th>\n",
       "      <td>Germany</td>\n",
       "      <td>1990</td>\n",
       "      <td>3648.000</td>\n",
       "    </tr>\n",
       "    <tr>\n",
       "      <th>...</th>\n",
       "      <td>...</td>\n",
       "      <td>...</td>\n",
       "      <td>...</td>\n",
       "    </tr>\n",
       "    <tr>\n",
       "      <th>1266</th>\n",
       "      <td>Bosnia and Herzegovina</td>\n",
       "      <td>2020</td>\n",
       "      <td>0.000</td>\n",
       "    </tr>\n",
       "    <tr>\n",
       "      <th>1267</th>\n",
       "      <td>Kosovo (under United Nations Security Council ...</td>\n",
       "      <td>2020</td>\n",
       "      <td>0.000</td>\n",
       "    </tr>\n",
       "    <tr>\n",
       "      <th>1268</th>\n",
       "      <td>Moldova</td>\n",
       "      <td>2020</td>\n",
       "      <td>5.400</td>\n",
       "    </tr>\n",
       "    <tr>\n",
       "      <th>1269</th>\n",
       "      <td>Ukraine</td>\n",
       "      <td>2020</td>\n",
       "      <td>1674.800</td>\n",
       "    </tr>\n",
       "    <tr>\n",
       "      <th>1270</th>\n",
       "      <td>Georgia</td>\n",
       "      <td>2020</td>\n",
       "      <td>31.293</td>\n",
       "    </tr>\n",
       "  </tbody>\n",
       "</table>\n",
       "<p>1271 rows × 3 columns</p>\n",
       "</div>"
      ],
      "text/plain": [
       "                                           country Name  year     value\n",
       "0                                               Belgium  1990     0.000\n",
       "1                                              Bulgaria  1990    60.000\n",
       "2                                               Czechia  1990    50.000\n",
       "3                                               Denmark  1990  5994.000\n",
       "4                                               Germany  1990  3648.000\n",
       "...                                                 ...   ...       ...\n",
       "1266                             Bosnia and Herzegovina  2020     0.000\n",
       "1267  Kosovo (under United Nations Security Council ...  2020     0.000\n",
       "1268                                            Moldova  2020     5.400\n",
       "1269                                            Ukraine  2020  1674.800\n",
       "1270                                            Georgia  2020    31.293\n",
       "\n",
       "[1271 rows x 3 columns]"
      ]
     },
     "execution_count": 3,
     "metadata": {},
     "output_type": "execute_result"
    }
   ],
   "source": [
    "df"
   ]
  },
  {
   "cell_type": "code",
   "execution_count": 19,
   "id": "9ec276d9",
   "metadata": {},
   "outputs": [],
   "source": [
    "import seaborn as sns"
   ]
  },
  {
   "cell_type": "code",
   "execution_count": 31,
   "id": "4c033ff8",
   "metadata": {},
   "outputs": [
    {
     "name": "stdout",
     "output_type": "stream",
     "text": [
      "Index(['Belgium', 'Bulgaria', 'Czechia', 'Denmark', 'Germany', 'Estonia',\n",
      "       'Ireland', 'Greece', 'Spain', 'France', 'Croatia', 'Italy', 'Cyprus',\n",
      "       'Latvia', 'Lithuania', 'Luxembourg', 'Hungary', 'Malta', 'Netherlands',\n",
      "       'Austria', 'Poland', 'Portugal', 'Romania', 'Slovenia', 'Slovakia',\n",
      "       'Finland', 'Sweden', 'Iceland', 'Liechtenstein', 'Norway',\n",
      "       'United Kingdom', 'Montenegro', 'North Macedonia', 'Albania', 'Serbia',\n",
      "       'Türkiye', 'Bosnia and Herzegovina',\n",
      "       'Kosovo (under United Nations Security Council Resolution 1244/99)',\n",
      "       'Moldova', 'Ukraine', 'Georgia'],\n",
      "      dtype='object', name='TIME')\n"
     ]
    },
    {
     "data": {
      "application/vnd.plotly.v1+json": {
       "config": {
        "plotlyServerURL": "https://plot.ly"
       },
       "data": [
        {
         "hovertemplate": "variable=Belgium<br>Year=%{x}<br>Oil Production in Barrel tons=%{y}<extra></extra>",
         "legendgroup": "Belgium",
         "line": {
          "color": "#636efa",
          "dash": "solid"
         },
         "marker": {
          "symbol": "circle"
         },
         "mode": "lines",
         "name": "Belgium",
         "orientation": "v",
         "showlegend": true,
         "type": "scatter",
         "x": [
          "1990",
          "1991",
          "1992",
          "1993",
          "1994",
          "1995",
          "1996",
          "1997",
          "1998",
          "1999",
          "2000",
          "2001",
          "2002",
          "2003",
          "2004",
          "2005",
          "2006",
          "2007",
          "2008",
          "2009",
          "2010",
          "2011",
          "2012",
          "2013",
          "2014",
          "2015",
          "2016",
          "2017",
          "2018",
          "2019",
          "2020"
         ],
         "xaxis": "x",
         "y": [
          0,
          0,
          0,
          0,
          0,
          0,
          0,
          0,
          0,
          0,
          0,
          0,
          0,
          0,
          0,
          0,
          0,
          0,
          0,
          0,
          0,
          0,
          0,
          0,
          0,
          0,
          0,
          0,
          0,
          0,
          0
         ],
         "yaxis": "y"
        }
       ],
       "layout": {
        "legend": {
         "title": {
          "text": "variable"
         },
         "tracegroupgap": 0
        },
        "margin": {
         "t": 60
        },
        "template": {
         "data": {
          "bar": [
           {
            "error_x": {
             "color": "#2a3f5f"
            },
            "error_y": {
             "color": "#2a3f5f"
            },
            "marker": {
             "line": {
              "color": "#E5ECF6",
              "width": 0.5
             },
             "pattern": {
              "fillmode": "overlay",
              "size": 10,
              "solidity": 0.2
             }
            },
            "type": "bar"
           }
          ],
          "barpolar": [
           {
            "marker": {
             "line": {
              "color": "#E5ECF6",
              "width": 0.5
             },
             "pattern": {
              "fillmode": "overlay",
              "size": 10,
              "solidity": 0.2
             }
            },
            "type": "barpolar"
           }
          ],
          "carpet": [
           {
            "aaxis": {
             "endlinecolor": "#2a3f5f",
             "gridcolor": "white",
             "linecolor": "white",
             "minorgridcolor": "white",
             "startlinecolor": "#2a3f5f"
            },
            "baxis": {
             "endlinecolor": "#2a3f5f",
             "gridcolor": "white",
             "linecolor": "white",
             "minorgridcolor": "white",
             "startlinecolor": "#2a3f5f"
            },
            "type": "carpet"
           }
          ],
          "choropleth": [
           {
            "colorbar": {
             "outlinewidth": 0,
             "ticks": ""
            },
            "type": "choropleth"
           }
          ],
          "contour": [
           {
            "colorbar": {
             "outlinewidth": 0,
             "ticks": ""
            },
            "colorscale": [
             [
              0,
              "#0d0887"
             ],
             [
              0.1111111111111111,
              "#46039f"
             ],
             [
              0.2222222222222222,
              "#7201a8"
             ],
             [
              0.3333333333333333,
              "#9c179e"
             ],
             [
              0.4444444444444444,
              "#bd3786"
             ],
             [
              0.5555555555555556,
              "#d8576b"
             ],
             [
              0.6666666666666666,
              "#ed7953"
             ],
             [
              0.7777777777777778,
              "#fb9f3a"
             ],
             [
              0.8888888888888888,
              "#fdca26"
             ],
             [
              1,
              "#f0f921"
             ]
            ],
            "type": "contour"
           }
          ],
          "contourcarpet": [
           {
            "colorbar": {
             "outlinewidth": 0,
             "ticks": ""
            },
            "type": "contourcarpet"
           }
          ],
          "heatmap": [
           {
            "colorbar": {
             "outlinewidth": 0,
             "ticks": ""
            },
            "colorscale": [
             [
              0,
              "#0d0887"
             ],
             [
              0.1111111111111111,
              "#46039f"
             ],
             [
              0.2222222222222222,
              "#7201a8"
             ],
             [
              0.3333333333333333,
              "#9c179e"
             ],
             [
              0.4444444444444444,
              "#bd3786"
             ],
             [
              0.5555555555555556,
              "#d8576b"
             ],
             [
              0.6666666666666666,
              "#ed7953"
             ],
             [
              0.7777777777777778,
              "#fb9f3a"
             ],
             [
              0.8888888888888888,
              "#fdca26"
             ],
             [
              1,
              "#f0f921"
             ]
            ],
            "type": "heatmap"
           }
          ],
          "heatmapgl": [
           {
            "colorbar": {
             "outlinewidth": 0,
             "ticks": ""
            },
            "colorscale": [
             [
              0,
              "#0d0887"
             ],
             [
              0.1111111111111111,
              "#46039f"
             ],
             [
              0.2222222222222222,
              "#7201a8"
             ],
             [
              0.3333333333333333,
              "#9c179e"
             ],
             [
              0.4444444444444444,
              "#bd3786"
             ],
             [
              0.5555555555555556,
              "#d8576b"
             ],
             [
              0.6666666666666666,
              "#ed7953"
             ],
             [
              0.7777777777777778,
              "#fb9f3a"
             ],
             [
              0.8888888888888888,
              "#fdca26"
             ],
             [
              1,
              "#f0f921"
             ]
            ],
            "type": "heatmapgl"
           }
          ],
          "histogram": [
           {
            "marker": {
             "pattern": {
              "fillmode": "overlay",
              "size": 10,
              "solidity": 0.2
             }
            },
            "type": "histogram"
           }
          ],
          "histogram2d": [
           {
            "colorbar": {
             "outlinewidth": 0,
             "ticks": ""
            },
            "colorscale": [
             [
              0,
              "#0d0887"
             ],
             [
              0.1111111111111111,
              "#46039f"
             ],
             [
              0.2222222222222222,
              "#7201a8"
             ],
             [
              0.3333333333333333,
              "#9c179e"
             ],
             [
              0.4444444444444444,
              "#bd3786"
             ],
             [
              0.5555555555555556,
              "#d8576b"
             ],
             [
              0.6666666666666666,
              "#ed7953"
             ],
             [
              0.7777777777777778,
              "#fb9f3a"
             ],
             [
              0.8888888888888888,
              "#fdca26"
             ],
             [
              1,
              "#f0f921"
             ]
            ],
            "type": "histogram2d"
           }
          ],
          "histogram2dcontour": [
           {
            "colorbar": {
             "outlinewidth": 0,
             "ticks": ""
            },
            "colorscale": [
             [
              0,
              "#0d0887"
             ],
             [
              0.1111111111111111,
              "#46039f"
             ],
             [
              0.2222222222222222,
              "#7201a8"
             ],
             [
              0.3333333333333333,
              "#9c179e"
             ],
             [
              0.4444444444444444,
              "#bd3786"
             ],
             [
              0.5555555555555556,
              "#d8576b"
             ],
             [
              0.6666666666666666,
              "#ed7953"
             ],
             [
              0.7777777777777778,
              "#fb9f3a"
             ],
             [
              0.8888888888888888,
              "#fdca26"
             ],
             [
              1,
              "#f0f921"
             ]
            ],
            "type": "histogram2dcontour"
           }
          ],
          "mesh3d": [
           {
            "colorbar": {
             "outlinewidth": 0,
             "ticks": ""
            },
            "type": "mesh3d"
           }
          ],
          "parcoords": [
           {
            "line": {
             "colorbar": {
              "outlinewidth": 0,
              "ticks": ""
             }
            },
            "type": "parcoords"
           }
          ],
          "pie": [
           {
            "automargin": true,
            "type": "pie"
           }
          ],
          "scatter": [
           {
            "fillpattern": {
             "fillmode": "overlay",
             "size": 10,
             "solidity": 0.2
            },
            "type": "scatter"
           }
          ],
          "scatter3d": [
           {
            "line": {
             "colorbar": {
              "outlinewidth": 0,
              "ticks": ""
             }
            },
            "marker": {
             "colorbar": {
              "outlinewidth": 0,
              "ticks": ""
             }
            },
            "type": "scatter3d"
           }
          ],
          "scattercarpet": [
           {
            "marker": {
             "colorbar": {
              "outlinewidth": 0,
              "ticks": ""
             }
            },
            "type": "scattercarpet"
           }
          ],
          "scattergeo": [
           {
            "marker": {
             "colorbar": {
              "outlinewidth": 0,
              "ticks": ""
             }
            },
            "type": "scattergeo"
           }
          ],
          "scattergl": [
           {
            "marker": {
             "colorbar": {
              "outlinewidth": 0,
              "ticks": ""
             }
            },
            "type": "scattergl"
           }
          ],
          "scattermapbox": [
           {
            "marker": {
             "colorbar": {
              "outlinewidth": 0,
              "ticks": ""
             }
            },
            "type": "scattermapbox"
           }
          ],
          "scatterpolar": [
           {
            "marker": {
             "colorbar": {
              "outlinewidth": 0,
              "ticks": ""
             }
            },
            "type": "scatterpolar"
           }
          ],
          "scatterpolargl": [
           {
            "marker": {
             "colorbar": {
              "outlinewidth": 0,
              "ticks": ""
             }
            },
            "type": "scatterpolargl"
           }
          ],
          "scatterternary": [
           {
            "marker": {
             "colorbar": {
              "outlinewidth": 0,
              "ticks": ""
             }
            },
            "type": "scatterternary"
           }
          ],
          "surface": [
           {
            "colorbar": {
             "outlinewidth": 0,
             "ticks": ""
            },
            "colorscale": [
             [
              0,
              "#0d0887"
             ],
             [
              0.1111111111111111,
              "#46039f"
             ],
             [
              0.2222222222222222,
              "#7201a8"
             ],
             [
              0.3333333333333333,
              "#9c179e"
             ],
             [
              0.4444444444444444,
              "#bd3786"
             ],
             [
              0.5555555555555556,
              "#d8576b"
             ],
             [
              0.6666666666666666,
              "#ed7953"
             ],
             [
              0.7777777777777778,
              "#fb9f3a"
             ],
             [
              0.8888888888888888,
              "#fdca26"
             ],
             [
              1,
              "#f0f921"
             ]
            ],
            "type": "surface"
           }
          ],
          "table": [
           {
            "cells": {
             "fill": {
              "color": "#EBF0F8"
             },
             "line": {
              "color": "white"
             }
            },
            "header": {
             "fill": {
              "color": "#C8D4E3"
             },
             "line": {
              "color": "white"
             }
            },
            "type": "table"
           }
          ]
         },
         "layout": {
          "annotationdefaults": {
           "arrowcolor": "#2a3f5f",
           "arrowhead": 0,
           "arrowwidth": 1
          },
          "autotypenumbers": "strict",
          "coloraxis": {
           "colorbar": {
            "outlinewidth": 0,
            "ticks": ""
           }
          },
          "colorscale": {
           "diverging": [
            [
             0,
             "#8e0152"
            ],
            [
             0.1,
             "#c51b7d"
            ],
            [
             0.2,
             "#de77ae"
            ],
            [
             0.3,
             "#f1b6da"
            ],
            [
             0.4,
             "#fde0ef"
            ],
            [
             0.5,
             "#f7f7f7"
            ],
            [
             0.6,
             "#e6f5d0"
            ],
            [
             0.7,
             "#b8e186"
            ],
            [
             0.8,
             "#7fbc41"
            ],
            [
             0.9,
             "#4d9221"
            ],
            [
             1,
             "#276419"
            ]
           ],
           "sequential": [
            [
             0,
             "#0d0887"
            ],
            [
             0.1111111111111111,
             "#46039f"
            ],
            [
             0.2222222222222222,
             "#7201a8"
            ],
            [
             0.3333333333333333,
             "#9c179e"
            ],
            [
             0.4444444444444444,
             "#bd3786"
            ],
            [
             0.5555555555555556,
             "#d8576b"
            ],
            [
             0.6666666666666666,
             "#ed7953"
            ],
            [
             0.7777777777777778,
             "#fb9f3a"
            ],
            [
             0.8888888888888888,
             "#fdca26"
            ],
            [
             1,
             "#f0f921"
            ]
           ],
           "sequentialminus": [
            [
             0,
             "#0d0887"
            ],
            [
             0.1111111111111111,
             "#46039f"
            ],
            [
             0.2222222222222222,
             "#7201a8"
            ],
            [
             0.3333333333333333,
             "#9c179e"
            ],
            [
             0.4444444444444444,
             "#bd3786"
            ],
            [
             0.5555555555555556,
             "#d8576b"
            ],
            [
             0.6666666666666666,
             "#ed7953"
            ],
            [
             0.7777777777777778,
             "#fb9f3a"
            ],
            [
             0.8888888888888888,
             "#fdca26"
            ],
            [
             1,
             "#f0f921"
            ]
           ]
          },
          "colorway": [
           "#636efa",
           "#EF553B",
           "#00cc96",
           "#ab63fa",
           "#FFA15A",
           "#19d3f3",
           "#FF6692",
           "#B6E880",
           "#FF97FF",
           "#FECB52"
          ],
          "font": {
           "color": "#2a3f5f"
          },
          "geo": {
           "bgcolor": "white",
           "lakecolor": "white",
           "landcolor": "#E5ECF6",
           "showlakes": true,
           "showland": true,
           "subunitcolor": "white"
          },
          "hoverlabel": {
           "align": "left"
          },
          "hovermode": "closest",
          "mapbox": {
           "style": "light"
          },
          "paper_bgcolor": "white",
          "plot_bgcolor": "#E5ECF6",
          "polar": {
           "angularaxis": {
            "gridcolor": "white",
            "linecolor": "white",
            "ticks": ""
           },
           "bgcolor": "#E5ECF6",
           "radialaxis": {
            "gridcolor": "white",
            "linecolor": "white",
            "ticks": ""
           }
          },
          "scene": {
           "xaxis": {
            "backgroundcolor": "#E5ECF6",
            "gridcolor": "white",
            "gridwidth": 2,
            "linecolor": "white",
            "showbackground": true,
            "ticks": "",
            "zerolinecolor": "white"
           },
           "yaxis": {
            "backgroundcolor": "#E5ECF6",
            "gridcolor": "white",
            "gridwidth": 2,
            "linecolor": "white",
            "showbackground": true,
            "ticks": "",
            "zerolinecolor": "white"
           },
           "zaxis": {
            "backgroundcolor": "#E5ECF6",
            "gridcolor": "white",
            "gridwidth": 2,
            "linecolor": "white",
            "showbackground": true,
            "ticks": "",
            "zerolinecolor": "white"
           }
          },
          "shapedefaults": {
           "line": {
            "color": "#2a3f5f"
           }
          },
          "ternary": {
           "aaxis": {
            "gridcolor": "white",
            "linecolor": "white",
            "ticks": ""
           },
           "baxis": {
            "gridcolor": "white",
            "linecolor": "white",
            "ticks": ""
           },
           "bgcolor": "#E5ECF6",
           "caxis": {
            "gridcolor": "white",
            "linecolor": "white",
            "ticks": ""
           }
          },
          "title": {
           "x": 0.05
          },
          "xaxis": {
           "automargin": true,
           "gridcolor": "white",
           "linecolor": "white",
           "ticks": "",
           "title": {
            "standoff": 15
           },
           "zerolinecolor": "white",
           "zerolinewidth": 2
          },
          "yaxis": {
           "automargin": true,
           "gridcolor": "white",
           "linecolor": "white",
           "ticks": "",
           "title": {
            "standoff": 15
           },
           "zerolinecolor": "white",
           "zerolinewidth": 2
          }
         }
        },
        "xaxis": {
         "anchor": "y",
         "domain": [
          0,
          1
         ],
         "title": {
          "text": "Year"
         }
        },
        "yaxis": {
         "anchor": "x",
         "domain": [
          0,
          1
         ],
         "title": {
          "text": "Oil Production in Barrel tons"
         }
        }
       }
      },
      "text/html": [
       "<div>                            <div id=\"7a71541b-8db8-4b9b-ac8a-66a026bafa97\" class=\"plotly-graph-div\" style=\"height:525px; width:100%;\"></div>            <script type=\"text/javascript\">                require([\"plotly\"], function(Plotly) {                    window.PLOTLYENV=window.PLOTLYENV || {};                                    if (document.getElementById(\"7a71541b-8db8-4b9b-ac8a-66a026bafa97\")) {                    Plotly.newPlot(                        \"7a71541b-8db8-4b9b-ac8a-66a026bafa97\",                        [{\"hovertemplate\":\"variable=Belgium<br>Year=%{x}<br>Oil Production in Barrel tons=%{y}<extra></extra>\",\"legendgroup\":\"Belgium\",\"line\":{\"color\":\"#636efa\",\"dash\":\"solid\"},\"marker\":{\"symbol\":\"circle\"},\"mode\":\"lines\",\"name\":\"Belgium\",\"orientation\":\"v\",\"showlegend\":true,\"x\":[\"1990\",\"1991\",\"1992\",\"1993\",\"1994\",\"1995\",\"1996\",\"1997\",\"1998\",\"1999\",\"2000\",\"2001\",\"2002\",\"2003\",\"2004\",\"2005\",\"2006\",\"2007\",\"2008\",\"2009\",\"2010\",\"2011\",\"2012\",\"2013\",\"2014\",\"2015\",\"2016\",\"2017\",\"2018\",\"2019\",\"2020\"],\"xaxis\":\"x\",\"y\":[0.0,0.0,0.0,0.0,0.0,0.0,0.0,0.0,0.0,0.0,0.0,0.0,0.0,0.0,0.0,0.0,0.0,0.0,0.0,0.0,0.0,0.0,0.0,0.0,0.0,0.0,0.0,0.0,0.0,0.0,0.0],\"yaxis\":\"y\",\"type\":\"scatter\"}],                        {\"template\":{\"data\":{\"histogram2dcontour\":[{\"type\":\"histogram2dcontour\",\"colorbar\":{\"outlinewidth\":0,\"ticks\":\"\"},\"colorscale\":[[0.0,\"#0d0887\"],[0.1111111111111111,\"#46039f\"],[0.2222222222222222,\"#7201a8\"],[0.3333333333333333,\"#9c179e\"],[0.4444444444444444,\"#bd3786\"],[0.5555555555555556,\"#d8576b\"],[0.6666666666666666,\"#ed7953\"],[0.7777777777777778,\"#fb9f3a\"],[0.8888888888888888,\"#fdca26\"],[1.0,\"#f0f921\"]]}],\"choropleth\":[{\"type\":\"choropleth\",\"colorbar\":{\"outlinewidth\":0,\"ticks\":\"\"}}],\"histogram2d\":[{\"type\":\"histogram2d\",\"colorbar\":{\"outlinewidth\":0,\"ticks\":\"\"},\"colorscale\":[[0.0,\"#0d0887\"],[0.1111111111111111,\"#46039f\"],[0.2222222222222222,\"#7201a8\"],[0.3333333333333333,\"#9c179e\"],[0.4444444444444444,\"#bd3786\"],[0.5555555555555556,\"#d8576b\"],[0.6666666666666666,\"#ed7953\"],[0.7777777777777778,\"#fb9f3a\"],[0.8888888888888888,\"#fdca26\"],[1.0,\"#f0f921\"]]}],\"heatmap\":[{\"type\":\"heatmap\",\"colorbar\":{\"outlinewidth\":0,\"ticks\":\"\"},\"colorscale\":[[0.0,\"#0d0887\"],[0.1111111111111111,\"#46039f\"],[0.2222222222222222,\"#7201a8\"],[0.3333333333333333,\"#9c179e\"],[0.4444444444444444,\"#bd3786\"],[0.5555555555555556,\"#d8576b\"],[0.6666666666666666,\"#ed7953\"],[0.7777777777777778,\"#fb9f3a\"],[0.8888888888888888,\"#fdca26\"],[1.0,\"#f0f921\"]]}],\"heatmapgl\":[{\"type\":\"heatmapgl\",\"colorbar\":{\"outlinewidth\":0,\"ticks\":\"\"},\"colorscale\":[[0.0,\"#0d0887\"],[0.1111111111111111,\"#46039f\"],[0.2222222222222222,\"#7201a8\"],[0.3333333333333333,\"#9c179e\"],[0.4444444444444444,\"#bd3786\"],[0.5555555555555556,\"#d8576b\"],[0.6666666666666666,\"#ed7953\"],[0.7777777777777778,\"#fb9f3a\"],[0.8888888888888888,\"#fdca26\"],[1.0,\"#f0f921\"]]}],\"contourcarpet\":[{\"type\":\"contourcarpet\",\"colorbar\":{\"outlinewidth\":0,\"ticks\":\"\"}}],\"contour\":[{\"type\":\"contour\",\"colorbar\":{\"outlinewidth\":0,\"ticks\":\"\"},\"colorscale\":[[0.0,\"#0d0887\"],[0.1111111111111111,\"#46039f\"],[0.2222222222222222,\"#7201a8\"],[0.3333333333333333,\"#9c179e\"],[0.4444444444444444,\"#bd3786\"],[0.5555555555555556,\"#d8576b\"],[0.6666666666666666,\"#ed7953\"],[0.7777777777777778,\"#fb9f3a\"],[0.8888888888888888,\"#fdca26\"],[1.0,\"#f0f921\"]]}],\"surface\":[{\"type\":\"surface\",\"colorbar\":{\"outlinewidth\":0,\"ticks\":\"\"},\"colorscale\":[[0.0,\"#0d0887\"],[0.1111111111111111,\"#46039f\"],[0.2222222222222222,\"#7201a8\"],[0.3333333333333333,\"#9c179e\"],[0.4444444444444444,\"#bd3786\"],[0.5555555555555556,\"#d8576b\"],[0.6666666666666666,\"#ed7953\"],[0.7777777777777778,\"#fb9f3a\"],[0.8888888888888888,\"#fdca26\"],[1.0,\"#f0f921\"]]}],\"mesh3d\":[{\"type\":\"mesh3d\",\"colorbar\":{\"outlinewidth\":0,\"ticks\":\"\"}}],\"scatter\":[{\"fillpattern\":{\"fillmode\":\"overlay\",\"size\":10,\"solidity\":0.2},\"type\":\"scatter\"}],\"parcoords\":[{\"type\":\"parcoords\",\"line\":{\"colorbar\":{\"outlinewidth\":0,\"ticks\":\"\"}}}],\"scatterpolargl\":[{\"type\":\"scatterpolargl\",\"marker\":{\"colorbar\":{\"outlinewidth\":0,\"ticks\":\"\"}}}],\"bar\":[{\"error_x\":{\"color\":\"#2a3f5f\"},\"error_y\":{\"color\":\"#2a3f5f\"},\"marker\":{\"line\":{\"color\":\"#E5ECF6\",\"width\":0.5},\"pattern\":{\"fillmode\":\"overlay\",\"size\":10,\"solidity\":0.2}},\"type\":\"bar\"}],\"scattergeo\":[{\"type\":\"scattergeo\",\"marker\":{\"colorbar\":{\"outlinewidth\":0,\"ticks\":\"\"}}}],\"scatterpolar\":[{\"type\":\"scatterpolar\",\"marker\":{\"colorbar\":{\"outlinewidth\":0,\"ticks\":\"\"}}}],\"histogram\":[{\"marker\":{\"pattern\":{\"fillmode\":\"overlay\",\"size\":10,\"solidity\":0.2}},\"type\":\"histogram\"}],\"scattergl\":[{\"type\":\"scattergl\",\"marker\":{\"colorbar\":{\"outlinewidth\":0,\"ticks\":\"\"}}}],\"scatter3d\":[{\"type\":\"scatter3d\",\"line\":{\"colorbar\":{\"outlinewidth\":0,\"ticks\":\"\"}},\"marker\":{\"colorbar\":{\"outlinewidth\":0,\"ticks\":\"\"}}}],\"scattermapbox\":[{\"type\":\"scattermapbox\",\"marker\":{\"colorbar\":{\"outlinewidth\":0,\"ticks\":\"\"}}}],\"scatterternary\":[{\"type\":\"scatterternary\",\"marker\":{\"colorbar\":{\"outlinewidth\":0,\"ticks\":\"\"}}}],\"scattercarpet\":[{\"type\":\"scattercarpet\",\"marker\":{\"colorbar\":{\"outlinewidth\":0,\"ticks\":\"\"}}}],\"carpet\":[{\"aaxis\":{\"endlinecolor\":\"#2a3f5f\",\"gridcolor\":\"white\",\"linecolor\":\"white\",\"minorgridcolor\":\"white\",\"startlinecolor\":\"#2a3f5f\"},\"baxis\":{\"endlinecolor\":\"#2a3f5f\",\"gridcolor\":\"white\",\"linecolor\":\"white\",\"minorgridcolor\":\"white\",\"startlinecolor\":\"#2a3f5f\"},\"type\":\"carpet\"}],\"table\":[{\"cells\":{\"fill\":{\"color\":\"#EBF0F8\"},\"line\":{\"color\":\"white\"}},\"header\":{\"fill\":{\"color\":\"#C8D4E3\"},\"line\":{\"color\":\"white\"}},\"type\":\"table\"}],\"barpolar\":[{\"marker\":{\"line\":{\"color\":\"#E5ECF6\",\"width\":0.5},\"pattern\":{\"fillmode\":\"overlay\",\"size\":10,\"solidity\":0.2}},\"type\":\"barpolar\"}],\"pie\":[{\"automargin\":true,\"type\":\"pie\"}]},\"layout\":{\"autotypenumbers\":\"strict\",\"colorway\":[\"#636efa\",\"#EF553B\",\"#00cc96\",\"#ab63fa\",\"#FFA15A\",\"#19d3f3\",\"#FF6692\",\"#B6E880\",\"#FF97FF\",\"#FECB52\"],\"font\":{\"color\":\"#2a3f5f\"},\"hovermode\":\"closest\",\"hoverlabel\":{\"align\":\"left\"},\"paper_bgcolor\":\"white\",\"plot_bgcolor\":\"#E5ECF6\",\"polar\":{\"bgcolor\":\"#E5ECF6\",\"angularaxis\":{\"gridcolor\":\"white\",\"linecolor\":\"white\",\"ticks\":\"\"},\"radialaxis\":{\"gridcolor\":\"white\",\"linecolor\":\"white\",\"ticks\":\"\"}},\"ternary\":{\"bgcolor\":\"#E5ECF6\",\"aaxis\":{\"gridcolor\":\"white\",\"linecolor\":\"white\",\"ticks\":\"\"},\"baxis\":{\"gridcolor\":\"white\",\"linecolor\":\"white\",\"ticks\":\"\"},\"caxis\":{\"gridcolor\":\"white\",\"linecolor\":\"white\",\"ticks\":\"\"}},\"coloraxis\":{\"colorbar\":{\"outlinewidth\":0,\"ticks\":\"\"}},\"colorscale\":{\"sequential\":[[0.0,\"#0d0887\"],[0.1111111111111111,\"#46039f\"],[0.2222222222222222,\"#7201a8\"],[0.3333333333333333,\"#9c179e\"],[0.4444444444444444,\"#bd3786\"],[0.5555555555555556,\"#d8576b\"],[0.6666666666666666,\"#ed7953\"],[0.7777777777777778,\"#fb9f3a\"],[0.8888888888888888,\"#fdca26\"],[1.0,\"#f0f921\"]],\"sequentialminus\":[[0.0,\"#0d0887\"],[0.1111111111111111,\"#46039f\"],[0.2222222222222222,\"#7201a8\"],[0.3333333333333333,\"#9c179e\"],[0.4444444444444444,\"#bd3786\"],[0.5555555555555556,\"#d8576b\"],[0.6666666666666666,\"#ed7953\"],[0.7777777777777778,\"#fb9f3a\"],[0.8888888888888888,\"#fdca26\"],[1.0,\"#f0f921\"]],\"diverging\":[[0,\"#8e0152\"],[0.1,\"#c51b7d\"],[0.2,\"#de77ae\"],[0.3,\"#f1b6da\"],[0.4,\"#fde0ef\"],[0.5,\"#f7f7f7\"],[0.6,\"#e6f5d0\"],[0.7,\"#b8e186\"],[0.8,\"#7fbc41\"],[0.9,\"#4d9221\"],[1,\"#276419\"]]},\"xaxis\":{\"gridcolor\":\"white\",\"linecolor\":\"white\",\"ticks\":\"\",\"title\":{\"standoff\":15},\"zerolinecolor\":\"white\",\"automargin\":true,\"zerolinewidth\":2},\"yaxis\":{\"gridcolor\":\"white\",\"linecolor\":\"white\",\"ticks\":\"\",\"title\":{\"standoff\":15},\"zerolinecolor\":\"white\",\"automargin\":true,\"zerolinewidth\":2},\"scene\":{\"xaxis\":{\"backgroundcolor\":\"#E5ECF6\",\"gridcolor\":\"white\",\"linecolor\":\"white\",\"showbackground\":true,\"ticks\":\"\",\"zerolinecolor\":\"white\",\"gridwidth\":2},\"yaxis\":{\"backgroundcolor\":\"#E5ECF6\",\"gridcolor\":\"white\",\"linecolor\":\"white\",\"showbackground\":true,\"ticks\":\"\",\"zerolinecolor\":\"white\",\"gridwidth\":2},\"zaxis\":{\"backgroundcolor\":\"#E5ECF6\",\"gridcolor\":\"white\",\"linecolor\":\"white\",\"showbackground\":true,\"ticks\":\"\",\"zerolinecolor\":\"white\",\"gridwidth\":2}},\"shapedefaults\":{\"line\":{\"color\":\"#2a3f5f\"}},\"annotationdefaults\":{\"arrowcolor\":\"#2a3f5f\",\"arrowhead\":0,\"arrowwidth\":1},\"geo\":{\"bgcolor\":\"white\",\"landcolor\":\"#E5ECF6\",\"subunitcolor\":\"white\",\"showland\":true,\"showlakes\":true,\"lakecolor\":\"white\"},\"title\":{\"x\":0.05},\"mapbox\":{\"style\":\"light\"}}},\"xaxis\":{\"anchor\":\"y\",\"domain\":[0.0,1.0],\"title\":{\"text\":\"Year\"}},\"yaxis\":{\"anchor\":\"x\",\"domain\":[0.0,1.0],\"title\":{\"text\":\"Oil Production in Barrel tons\"}},\"legend\":{\"title\":{\"text\":\"variable\"},\"tracegroupgap\":0},\"margin\":{\"t\":60}},                        {\"responsive\": true}                    ).then(function(){\n",
       "                            \n",
       "var gd = document.getElementById('7a71541b-8db8-4b9b-ac8a-66a026bafa97');\n",
       "var x = new MutationObserver(function (mutations, observer) {{\n",
       "        var display = window.getComputedStyle(gd).display;\n",
       "        if (!display || display === 'none') {{\n",
       "            console.log([gd, 'removed!']);\n",
       "            Plotly.purge(gd);\n",
       "            observer.disconnect();\n",
       "        }}\n",
       "}});\n",
       "\n",
       "// Listen for the removal of the full notebook cells\n",
       "var notebookContainer = gd.closest('#notebook-container');\n",
       "if (notebookContainer) {{\n",
       "    x.observe(notebookContainer, {childList: true});\n",
       "}}\n",
       "\n",
       "// Listen for the clearing of the current output cell\n",
       "var outputEl = gd.closest('.output');\n",
       "if (outputEl) {{\n",
       "    x.observe(outputEl, {childList: true});\n",
       "}}\n",
       "\n",
       "                        })                };                });            </script>        </div>"
      ]
     },
     "metadata": {},
     "output_type": "display_data"
    }
   ],
   "source": [
    "print(original_df.index)\n",
    "px.line(original_df.loc['Belgium'],labels={\"index\": \"Year\", \"value\": \"Oil Production in Barrel tons\"})"
   ]
  },
  {
   "cell_type": "code",
   "execution_count": 5,
   "id": "f54a6554",
   "metadata": {},
   "outputs": [
    {
     "data": {
      "application/vnd.plotly.v1+json": {
       "config": {
        "plotlyServerURL": "https://plot.ly"
       },
       "data": [
        {
         "coloraxis": "coloraxis",
         "geo": "geo",
         "hovertemplate": "year=1990<br>country Name=%{location}<br>value=%{z}<extra></extra>",
         "locationmode": "country names",
         "locations": [
          "Belgium",
          "Bulgaria",
          "Czechia",
          "Denmark",
          "Germany",
          "Estonia",
          "Ireland",
          "Greece",
          "Spain",
          "France",
          "Croatia",
          "Italy",
          "Cyprus",
          "Latvia",
          "Lithuania",
          "Luxembourg",
          "Hungary",
          "Malta",
          "Netherlands",
          "Austria",
          "Poland",
          "Portugal",
          "Romania",
          "Slovenia",
          "Slovakia",
          "Finland",
          "Sweden",
          "Iceland",
          "Liechtenstein",
          "Norway",
          "United Kingdom",
          "Montenegro",
          "North Macedonia",
          "Albania",
          "Serbia",
          "Türkiye",
          "Bosnia and Herzegovina",
          "Kosovo (under United Nations Security Council Resolution 1244/99)",
          "Moldova",
          "Ukraine",
          "Georgia"
         ],
         "name": "",
         "type": "choropleth",
         "z": [
          0,
          60,
          50,
          5994,
          3648,
          0,
          0,
          773,
          795,
          3024,
          2497,
          4641,
          0,
          0,
          12,
          0,
          1915,
          0,
          3533,
          1149,
          160,
          0,
          7929,
          3,
          73,
          0,
          3,
          0,
          0,
          79663,
          87990,
          0,
          0,
          1067,
          1063,
          3712,
          0,
          0,
          0,
          4092,
          0
         ]
        }
       ],
       "frames": [
        {
         "data": [
          {
           "coloraxis": "coloraxis",
           "geo": "geo",
           "hovertemplate": "year=1990<br>country Name=%{location}<br>value=%{z}<extra></extra>",
           "locationmode": "country names",
           "locations": [
            "Belgium",
            "Bulgaria",
            "Czechia",
            "Denmark",
            "Germany",
            "Estonia",
            "Ireland",
            "Greece",
            "Spain",
            "France",
            "Croatia",
            "Italy",
            "Cyprus",
            "Latvia",
            "Lithuania",
            "Luxembourg",
            "Hungary",
            "Malta",
            "Netherlands",
            "Austria",
            "Poland",
            "Portugal",
            "Romania",
            "Slovenia",
            "Slovakia",
            "Finland",
            "Sweden",
            "Iceland",
            "Liechtenstein",
            "Norway",
            "United Kingdom",
            "Montenegro",
            "North Macedonia",
            "Albania",
            "Serbia",
            "Türkiye",
            "Bosnia and Herzegovina",
            "Kosovo (under United Nations Security Council Resolution 1244/99)",
            "Moldova",
            "Ukraine",
            "Georgia"
           ],
           "name": "",
           "type": "choropleth",
           "z": [
            0,
            60,
            50,
            5994,
            3648,
            0,
            0,
            773,
            795,
            3024,
            2497,
            4641,
            0,
            0,
            12,
            0,
            1915,
            0,
            3533,
            1149,
            160,
            0,
            7929,
            3,
            73,
            0,
            3,
            0,
            0,
            79663,
            87990,
            0,
            0,
            1067,
            1063,
            3712,
            0,
            0,
            0,
            4092,
            0
           ]
          }
         ],
         "name": "1990"
        },
        {
         "data": [
          {
           "coloraxis": "coloraxis",
           "geo": "geo",
           "hovertemplate": "year=1991<br>country Name=%{location}<br>value=%{z}<extra></extra>",
           "locationmode": "country names",
           "locations": [
            "Belgium",
            "Bulgaria",
            "Czechia",
            "Denmark",
            "Germany",
            "Estonia",
            "Ireland",
            "Greece",
            "Spain",
            "France",
            "Croatia",
            "Italy",
            "Cyprus",
            "Latvia",
            "Lithuania",
            "Luxembourg",
            "Hungary",
            "Malta",
            "Netherlands",
            "Austria",
            "Poland",
            "Portugal",
            "Romania",
            "Slovenia",
            "Slovakia",
            "Finland",
            "Sweden",
            "Iceland",
            "Liechtenstein",
            "Norway",
            "United Kingdom",
            "Montenegro",
            "North Macedonia",
            "Albania",
            "Serbia",
            "Türkiye",
            "Bosnia and Herzegovina",
            "Kosovo (under United Nations Security Council Resolution 1244/99)",
            "Moldova",
            "Ukraine",
            "Georgia"
           ],
           "name": "",
           "type": "choropleth",
           "z": [
            0,
            58,
            69,
            6993,
            3405,
            0,
            0,
            789,
            1067,
            2952,
            2177,
            4307,
            0,
            0,
            33,
            0,
            1841,
            0,
            3258,
            1280,
            158,
            0,
            6791,
            2,
            72,
            0,
            2,
            0,
            0,
            91383,
            86831,
            0,
            0,
            845,
            1100,
            4364,
            0,
            0,
            0,
            3945,
            0
           ]
          }
         ],
         "name": "1991"
        },
        {
         "data": [
          {
           "coloraxis": "coloraxis",
           "geo": "geo",
           "hovertemplate": "year=1992<br>country Name=%{location}<br>value=%{z}<extra></extra>",
           "locationmode": "country names",
           "locations": [
            "Belgium",
            "Bulgaria",
            "Czechia",
            "Denmark",
            "Germany",
            "Estonia",
            "Ireland",
            "Greece",
            "Spain",
            "France",
            "Croatia",
            "Italy",
            "Cyprus",
            "Latvia",
            "Lithuania",
            "Luxembourg",
            "Hungary",
            "Malta",
            "Netherlands",
            "Austria",
            "Poland",
            "Portugal",
            "Romania",
            "Slovenia",
            "Slovakia",
            "Finland",
            "Sweden",
            "Iceland",
            "Liechtenstein",
            "Norway",
            "United Kingdom",
            "Montenegro",
            "North Macedonia",
            "Albania",
            "Serbia",
            "Türkiye",
            "Bosnia and Herzegovina",
            "Kosovo (under United Nations Security Council Resolution 1244/99)",
            "Moldova",
            "Ukraine",
            "Georgia"
           ],
           "name": "",
           "type": "choropleth",
           "z": [
            0,
            53,
            82,
            7756,
            3279,
            0,
            0,
            653,
            1073,
            2866,
            1917,
            4479,
            0,
            0,
            63,
            0,
            1769,
            0,
            2845,
            1180,
            200,
            0,
            6615,
            2,
            73,
            0,
            1,
            0,
            0,
            104488,
            89179,
            0,
            0,
            585,
            1165,
            4276,
            0,
            0,
            0,
            3617,
            0
           ]
          }
         ],
         "name": "1992"
        },
        {
         "data": [
          {
           "coloraxis": "coloraxis",
           "geo": "geo",
           "hovertemplate": "year=1993<br>country Name=%{location}<br>value=%{z}<extra></extra>",
           "locationmode": "country names",
           "locations": [
            "Belgium",
            "Bulgaria",
            "Czechia",
            "Denmark",
            "Germany",
            "Estonia",
            "Ireland",
            "Greece",
            "Spain",
            "France",
            "Croatia",
            "Italy",
            "Cyprus",
            "Latvia",
            "Lithuania",
            "Luxembourg",
            "Hungary",
            "Malta",
            "Netherlands",
            "Austria",
            "Poland",
            "Portugal",
            "Romania",
            "Slovenia",
            "Slovakia",
            "Finland",
            "Sweden",
            "Iceland",
            "Liechtenstein",
            "Norway",
            "United Kingdom",
            "Montenegro",
            "North Macedonia",
            "Albania",
            "Serbia",
            "Türkiye",
            "Bosnia and Herzegovina",
            "Kosovo (under United Nations Security Council Resolution 1244/99)",
            "Moldova",
            "Ukraine",
            "Georgia"
           ],
           "name": "",
           "type": "choropleth",
           "z": [
            0,
            43,
            111,
            8265,
            3064,
            0,
            0,
            537,
            874,
            2752,
            1895,
            4620,
            0,
            0,
            73,
            0,
            1654,
            0,
            2672,
            1154,
            235,
            0,
            6713,
            2,
            67,
            0,
            0,
            0,
            0,
            111854,
            93950,
            0,
            0,
            568,
            1148,
            3892,
            0,
            0,
            0,
            3335,
            0
           ]
          }
         ],
         "name": "1993"
        },
        {
         "data": [
          {
           "coloraxis": "coloraxis",
           "geo": "geo",
           "hovertemplate": "year=1994<br>country Name=%{location}<br>value=%{z}<extra></extra>",
           "locationmode": "country names",
           "locations": [
            "Belgium",
            "Bulgaria",
            "Czechia",
            "Denmark",
            "Germany",
            "Estonia",
            "Ireland",
            "Greece",
            "Spain",
            "France",
            "Croatia",
            "Italy",
            "Cyprus",
            "Latvia",
            "Lithuania",
            "Luxembourg",
            "Hungary",
            "Malta",
            "Netherlands",
            "Austria",
            "Poland",
            "Portugal",
            "Romania",
            "Slovenia",
            "Slovakia",
            "Finland",
            "Sweden",
            "Iceland",
            "Liechtenstein",
            "Norway",
            "United Kingdom",
            "Montenegro",
            "North Macedonia",
            "Albania",
            "Serbia",
            "Türkiye",
            "Bosnia and Herzegovina",
            "Kosovo (under United Nations Security Council Resolution 1244/99)",
            "Moldova",
            "Ukraine",
            "Georgia"
           ],
           "name": "",
           "type": "choropleth",
           "z": [
            0,
            36,
            128,
            9118,
            2938,
            0,
            0,
            500,
            807,
            2769,
            1577,
            4877,
            0,
            0,
            93,
            0,
            1575,
            0,
            3437,
            1099,
            284,
            0,
            6737,
            2,
            67,
            0,
            5,
            0,
            0,
            125043,
            119032,
            0,
            0,
            535,
            1030,
            3696,
            0,
            0,
            0,
            3155,
            0
           ]
          }
         ],
         "name": "1994"
        },
        {
         "data": [
          {
           "coloraxis": "coloraxis",
           "geo": "geo",
           "hovertemplate": "year=1995<br>country Name=%{location}<br>value=%{z}<extra></extra>",
           "locationmode": "country names",
           "locations": [
            "Belgium",
            "Bulgaria",
            "Czechia",
            "Denmark",
            "Germany",
            "Estonia",
            "Ireland",
            "Greece",
            "Spain",
            "France",
            "Croatia",
            "Italy",
            "Cyprus",
            "Latvia",
            "Lithuania",
            "Luxembourg",
            "Hungary",
            "Malta",
            "Netherlands",
            "Austria",
            "Poland",
            "Portugal",
            "Romania",
            "Slovenia",
            "Slovakia",
            "Finland",
            "Sweden",
            "Iceland",
            "Liechtenstein",
            "Norway",
            "United Kingdom",
            "Montenegro",
            "North Macedonia",
            "Albania",
            "Serbia",
            "Türkiye",
            "Bosnia and Herzegovina",
            "Kosovo (under United Nations Security Council Resolution 1244/99)",
            "Moldova",
            "Ukraine",
            "Georgia"
           ],
           "name": "",
           "type": "choropleth",
           "z": [
            0,
            43,
            146,
            9170,
            2926,
            0,
            0,
            435,
            652,
            2503,
            1500,
            5208,
            0,
            0,
            128,
            0,
            1668,
            0,
            2721,
            1035,
            292,
            0,
            6717,
            2,
            74,
            0,
            4,
            0,
            0,
            134617,
            121794,
            0,
            0,
            521,
            1067,
            3516,
            0,
            0,
            0,
            2993,
            0
           ]
          }
         ],
         "name": "1995"
        },
        {
         "data": [
          {
           "coloraxis": "coloraxis",
           "geo": "geo",
           "hovertemplate": "year=1996<br>country Name=%{location}<br>value=%{z}<extra></extra>",
           "locationmode": "country names",
           "locations": [
            "Belgium",
            "Bulgaria",
            "Czechia",
            "Denmark",
            "Germany",
            "Estonia",
            "Ireland",
            "Greece",
            "Spain",
            "France",
            "Croatia",
            "Italy",
            "Cyprus",
            "Latvia",
            "Lithuania",
            "Luxembourg",
            "Hungary",
            "Malta",
            "Netherlands",
            "Austria",
            "Poland",
            "Portugal",
            "Romania",
            "Slovenia",
            "Slovakia",
            "Finland",
            "Sweden",
            "Iceland",
            "Liechtenstein",
            "Norway",
            "United Kingdom",
            "Montenegro",
            "North Macedonia",
            "Albania",
            "Serbia",
            "Türkiye",
            "Bosnia and Herzegovina",
            "Kosovo (under United Nations Security Council Resolution 1244/99)",
            "Moldova",
            "Ukraine",
            "Georgia"
           ],
           "name": "",
           "type": "choropleth",
           "z": [
            0,
            32,
            152,
            10122,
            2874,
            0,
            0,
            483,
            512,
            2107,
            1469,
            5430,
            0,
            0,
            155,
            0,
            1477,
            0,
            2221,
            992,
            317,
            0,
            6626,
            1,
            71,
            0,
            0,
            0,
            0,
            152752,
            121930,
            0,
            0,
            489,
            1023,
            3500,
            0,
            0,
            0,
            2951,
            0
           ]
          }
         ],
         "name": "1996"
        },
        {
         "data": [
          {
           "coloraxis": "coloraxis",
           "geo": "geo",
           "hovertemplate": "year=1997<br>country Name=%{location}<br>value=%{z}<extra></extra>",
           "locationmode": "country names",
           "locations": [
            "Belgium",
            "Bulgaria",
            "Czechia",
            "Denmark",
            "Germany",
            "Estonia",
            "Ireland",
            "Greece",
            "Spain",
            "France",
            "Croatia",
            "Italy",
            "Cyprus",
            "Latvia",
            "Lithuania",
            "Luxembourg",
            "Hungary",
            "Malta",
            "Netherlands",
            "Austria",
            "Poland",
            "Portugal",
            "Romania",
            "Slovenia",
            "Slovakia",
            "Finland",
            "Sweden",
            "Iceland",
            "Liechtenstein",
            "Norway",
            "United Kingdom",
            "Montenegro",
            "North Macedonia",
            "Albania",
            "Serbia",
            "Türkiye",
            "Bosnia and Herzegovina",
            "Kosovo (under United Nations Security Council Resolution 1244/99)",
            "Moldova",
            "Ukraine",
            "Georgia"
           ],
           "name": "",
           "type": "choropleth",
           "z": [
            0,
            28,
            163,
            11145,
            2804,
            0,
            0,
            436,
            371,
            1780,
            1533,
            5926,
            0,
            0,
            212,
            0,
            1360,
            0,
            2069,
            972,
            289,
            0,
            6517,
            1,
            64,
            0,
            0,
            0,
            0,
            152491,
            120321,
            0,
            0,
            360,
            984,
            3449,
            0,
            0,
            0,
            2885,
            0
           ]
          }
         ],
         "name": "1997"
        },
        {
         "data": [
          {
           "coloraxis": "coloraxis",
           "geo": "geo",
           "hovertemplate": "year=1998<br>country Name=%{location}<br>value=%{z}<extra></extra>",
           "locationmode": "country names",
           "locations": [
            "Belgium",
            "Bulgaria",
            "Czechia",
            "Denmark",
            "Germany",
            "Estonia",
            "Ireland",
            "Greece",
            "Spain",
            "France",
            "Croatia",
            "Italy",
            "Cyprus",
            "Latvia",
            "Lithuania",
            "Luxembourg",
            "Hungary",
            "Malta",
            "Netherlands",
            "Austria",
            "Poland",
            "Portugal",
            "Romania",
            "Slovenia",
            "Slovakia",
            "Finland",
            "Sweden",
            "Iceland",
            "Liechtenstein",
            "Norway",
            "United Kingdom",
            "Montenegro",
            "North Macedonia",
            "Albania",
            "Serbia",
            "Türkiye",
            "Bosnia and Herzegovina",
            "Kosovo (under United Nations Security Council Resolution 1244/99)",
            "Moldova",
            "Ukraine",
            "Georgia"
           ],
           "name": "",
           "type": "choropleth",
           "z": [
            0,
            33,
            179,
            11432,
            2934,
            0,
            0,
            293,
            529,
            1709,
            1589,
            5600,
            0,
            0,
            277,
            0,
            1260,
            0,
            1715,
            959,
            360,
            0,
            6309,
            1,
            60,
            0,
            0,
            0,
            0,
            146166,
            124222,
            0,
            0,
            365,
            919,
            3223,
            0,
            0,
            0,
            2699,
            0
           ]
          }
         ],
         "name": "1998"
        },
        {
         "data": [
          {
           "coloraxis": "coloraxis",
           "geo": "geo",
           "hovertemplate": "year=1999<br>country Name=%{location}<br>value=%{z}<extra></extra>",
           "locationmode": "country names",
           "locations": [
            "Belgium",
            "Bulgaria",
            "Czechia",
            "Denmark",
            "Germany",
            "Estonia",
            "Ireland",
            "Greece",
            "Spain",
            "France",
            "Croatia",
            "Italy",
            "Cyprus",
            "Latvia",
            "Lithuania",
            "Luxembourg",
            "Hungary",
            "Malta",
            "Netherlands",
            "Austria",
            "Poland",
            "Portugal",
            "Romania",
            "Slovenia",
            "Slovakia",
            "Finland",
            "Sweden",
            "Iceland",
            "Liechtenstein",
            "Norway",
            "United Kingdom",
            "Montenegro",
            "North Macedonia",
            "Albania",
            "Serbia",
            "Türkiye",
            "Bosnia and Herzegovina",
            "Kosovo (under United Nations Security Council Resolution 1244/99)",
            "Moldova",
            "Ukraine",
            "Georgia"
           ],
           "name": "",
           "type": "choropleth",
           "z": [
            0,
            40,
            183,
            14465,
            2746,
            0,
            0,
            15,
            299,
            1539,
            1176,
            4998,
            0,
            0,
            232,
            0,
            1243,
            0,
            1594,
            1002,
            434,
            0,
            6140,
            1,
            66,
            0,
            0,
            0,
            0,
            145843,
            128262,
            0,
            0,
            328,
            965,
            2941,
            0,
            0,
            0,
            2670,
            0
           ]
          }
         ],
         "name": "1999"
        },
        {
         "data": [
          {
           "coloraxis": "coloraxis",
           "geo": "geo",
           "hovertemplate": "year=2000<br>country Name=%{location}<br>value=%{z}<extra></extra>",
           "locationmode": "country names",
           "locations": [
            "Belgium",
            "Bulgaria",
            "Czechia",
            "Denmark",
            "Germany",
            "Estonia",
            "Ireland",
            "Greece",
            "Spain",
            "France",
            "Croatia",
            "Italy",
            "Cyprus",
            "Latvia",
            "Lithuania",
            "Luxembourg",
            "Hungary",
            "Malta",
            "Netherlands",
            "Austria",
            "Poland",
            "Portugal",
            "Romania",
            "Slovenia",
            "Slovakia",
            "Finland",
            "Sweden",
            "Iceland",
            "Liechtenstein",
            "Norway",
            "United Kingdom",
            "Montenegro",
            "North Macedonia",
            "Albania",
            "Serbia",
            "Türkiye",
            "Bosnia and Herzegovina",
            "Kosovo (under United Nations Security Council Resolution 1244/99)",
            "Moldova",
            "Ukraine",
            "Georgia"
           ],
           "name": "",
           "type": "choropleth",
           "z": [
            0,
            42,
            175,
            17780,
            3166,
            0,
            0,
            256,
            227,
            1417,
            1113,
            4555,
            0,
            0,
            316,
            0,
            1136,
            0,
            1443,
            971,
            653,
            0,
            6042,
            1,
            59,
            0,
            0,
            0,
            0,
            157522,
            117882,
            0,
            0,
            314,
            978,
            2762,
            0,
            0,
            0,
            2626,
            0
           ]
          }
         ],
         "name": "2000"
        },
        {
         "data": [
          {
           "coloraxis": "coloraxis",
           "geo": "geo",
           "hovertemplate": "year=2001<br>country Name=%{location}<br>value=%{z}<extra></extra>",
           "locationmode": "country names",
           "locations": [
            "Belgium",
            "Bulgaria",
            "Czechia",
            "Denmark",
            "Germany",
            "Estonia",
            "Ireland",
            "Greece",
            "Spain",
            "France",
            "Croatia",
            "Italy",
            "Cyprus",
            "Latvia",
            "Lithuania",
            "Luxembourg",
            "Hungary",
            "Malta",
            "Netherlands",
            "Austria",
            "Poland",
            "Portugal",
            "Romania",
            "Slovenia",
            "Slovakia",
            "Finland",
            "Sweden",
            "Iceland",
            "Liechtenstein",
            "Norway",
            "United Kingdom",
            "Montenegro",
            "North Macedonia",
            "Albania",
            "Serbia",
            "Türkiye",
            "Bosnia and Herzegovina",
            "Kosovo (under United Nations Security Council Resolution 1244/99)",
            "Moldova",
            "Ukraine",
            "Georgia"
           ],
           "name": "",
           "type": "choropleth",
           "z": [
            0,
            34,
            183,
            16887,
            3278,
            0,
            0,
            171,
            338,
            1382,
            1042,
            4066,
            0,
            0,
            471,
            0,
            1065,
            0,
            1370,
            957,
            767,
            0,
            6011,
            0,
            46,
            0,
            0,
            0,
            0,
            157551,
            108387,
            0,
            0,
            308,
            899,
            2520,
            0,
            0,
            0,
            2617,
            0
           ]
          }
         ],
         "name": "2001"
        },
        {
         "data": [
          {
           "coloraxis": "coloraxis",
           "geo": "geo",
           "hovertemplate": "year=2002<br>country Name=%{location}<br>value=%{z}<extra></extra>",
           "locationmode": "country names",
           "locations": [
            "Belgium",
            "Bulgaria",
            "Czechia",
            "Denmark",
            "Germany",
            "Estonia",
            "Ireland",
            "Greece",
            "Spain",
            "France",
            "Croatia",
            "Italy",
            "Cyprus",
            "Latvia",
            "Lithuania",
            "Luxembourg",
            "Hungary",
            "Malta",
            "Netherlands",
            "Austria",
            "Poland",
            "Portugal",
            "Romania",
            "Slovenia",
            "Slovakia",
            "Finland",
            "Sweden",
            "Iceland",
            "Liechtenstein",
            "Norway",
            "United Kingdom",
            "Montenegro",
            "North Macedonia",
            "Albania",
            "Serbia",
            "Türkiye",
            "Bosnia and Herzegovina",
            "Kosovo (under United Nations Security Council Resolution 1244/99)",
            "Moldova",
            "Ukraine",
            "Georgia"
           ],
           "name": "",
           "type": "choropleth",
           "z": [
            0,
            37,
            265,
            18143,
            3509,
            0,
            0,
            165,
            316,
            1317,
            1015,
            5535,
            0,
            0,
            434,
            0,
            1050,
            0,
            2232,
            948,
            728,
            0,
            5810,
            1,
            44,
            0,
            0,
            0,
            0,
            151681,
            107430,
            0,
            0,
            371,
            812,
            2420,
            0,
            0,
            0,
            2625,
            0
           ]
          }
         ],
         "name": "2002"
        },
        {
         "data": [
          {
           "coloraxis": "coloraxis",
           "geo": "geo",
           "hovertemplate": "year=2003<br>country Name=%{location}<br>value=%{z}<extra></extra>",
           "locationmode": "country names",
           "locations": [
            "Belgium",
            "Bulgaria",
            "Czechia",
            "Denmark",
            "Germany",
            "Estonia",
            "Ireland",
            "Greece",
            "Spain",
            "France",
            "Croatia",
            "Italy",
            "Cyprus",
            "Latvia",
            "Lithuania",
            "Luxembourg",
            "Hungary",
            "Malta",
            "Netherlands",
            "Austria",
            "Poland",
            "Portugal",
            "Romania",
            "Slovenia",
            "Slovakia",
            "Finland",
            "Sweden",
            "Iceland",
            "Liechtenstein",
            "Norway",
            "United Kingdom",
            "Montenegro",
            "North Macedonia",
            "Albania",
            "Serbia",
            "Türkiye",
            "Bosnia and Herzegovina",
            "Kosovo (under United Nations Security Council Resolution 1244/99)",
            "Moldova",
            "Ukraine",
            "Georgia"
           ],
           "name": "",
           "type": "choropleth",
           "z": [
            0,
            30,
            317,
            18143,
            3690,
            0,
            0,
            120,
            322,
            1219,
            959,
            5570,
            0,
            0,
            382,
            0,
            1134,
            0,
            2304,
            919,
            765,
            0,
            5651,
            0,
            42,
            0,
            0,
            0,
            0,
            147011,
            97835,
            0,
            0,
            360,
            773,
            2351,
            0,
            0,
            0,
            2814,
            0
           ]
          }
         ],
         "name": "2003"
        },
        {
         "data": [
          {
           "coloraxis": "coloraxis",
           "geo": "geo",
           "hovertemplate": "year=2004<br>country Name=%{location}<br>value=%{z}<extra></extra>",
           "locationmode": "country names",
           "locations": [
            "Belgium",
            "Bulgaria",
            "Czechia",
            "Denmark",
            "Germany",
            "Estonia",
            "Ireland",
            "Greece",
            "Spain",
            "France",
            "Croatia",
            "Italy",
            "Cyprus",
            "Latvia",
            "Lithuania",
            "Luxembourg",
            "Hungary",
            "Malta",
            "Netherlands",
            "Austria",
            "Poland",
            "Portugal",
            "Romania",
            "Slovenia",
            "Slovakia",
            "Finland",
            "Sweden",
            "Iceland",
            "Liechtenstein",
            "Norway",
            "United Kingdom",
            "Montenegro",
            "North Macedonia",
            "Albania",
            "Serbia",
            "Türkiye",
            "Bosnia and Herzegovina",
            "Kosovo (under United Nations Security Council Resolution 1244/99)",
            "Moldova",
            "Ukraine",
            "Georgia"
           ],
           "name": "",
           "type": "choropleth",
           "z": [
            0,
            30,
            306,
            19262,
            3463,
            0,
            0,
            118,
            255,
            1138,
            890,
            5445,
            0,
            0,
            302,
            0,
            1077,
            0,
            2106,
            971,
            886,
            0,
            5462,
            0,
            38,
            0,
            0,
            0,
            0,
            144371,
            87516,
            0,
            0,
            443,
            652,
            2251,
            0,
            0,
            0,
            3003,
            0
           ]
          }
         ],
         "name": "2004"
        },
        {
         "data": [
          {
           "coloraxis": "coloraxis",
           "geo": "geo",
           "hovertemplate": "year=2005<br>country Name=%{location}<br>value=%{z}<extra></extra>",
           "locationmode": "country names",
           "locations": [
            "Belgium",
            "Bulgaria",
            "Czechia",
            "Denmark",
            "Germany",
            "Estonia",
            "Ireland",
            "Greece",
            "Spain",
            "France",
            "Croatia",
            "Italy",
            "Cyprus",
            "Latvia",
            "Lithuania",
            "Luxembourg",
            "Hungary",
            "Malta",
            "Netherlands",
            "Austria",
            "Poland",
            "Portugal",
            "Romania",
            "Slovenia",
            "Slovakia",
            "Finland",
            "Sweden",
            "Iceland",
            "Liechtenstein",
            "Norway",
            "United Kingdom",
            "Montenegro",
            "North Macedonia",
            "Albania",
            "Serbia",
            "Türkiye",
            "Bosnia and Herzegovina",
            "Kosovo (under United Nations Security Council Resolution 1244/99)",
            "Moldova",
            "Ukraine",
            "Georgia"
           ],
           "name": "",
           "type": "choropleth",
           "z": [
            0,
            30,
            313,
            18517,
            3471,
            0,
            0,
            89,
            166,
            1079,
            830,
            6111,
            0,
            0,
            216,
            0,
            948,
            0,
            1492,
            854.775,
            848,
            0,
            5215,
            0,
            31,
            0,
            0,
            0,
            0,
            131942,
            77179,
            0,
            0,
            418,
            649,
            2258,
            0,
            0,
            0,
            3149,
            0
           ]
          }
         ],
         "name": "2005"
        },
        {
         "data": [
          {
           "coloraxis": "coloraxis",
           "geo": "geo",
           "hovertemplate": "year=2006<br>country Name=%{location}<br>value=%{z}<extra></extra>",
           "locationmode": "country names",
           "locations": [
            "Belgium",
            "Bulgaria",
            "Czechia",
            "Denmark",
            "Germany",
            "Estonia",
            "Ireland",
            "Greece",
            "Spain",
            "France",
            "Croatia",
            "Italy",
            "Cyprus",
            "Latvia",
            "Lithuania",
            "Luxembourg",
            "Hungary",
            "Malta",
            "Netherlands",
            "Austria",
            "Poland",
            "Portugal",
            "Romania",
            "Slovenia",
            "Slovakia",
            "Finland",
            "Sweden",
            "Iceland",
            "Liechtenstein",
            "Norway",
            "United Kingdom",
            "Montenegro",
            "North Macedonia",
            "Albania",
            "Serbia",
            "Türkiye",
            "Bosnia and Herzegovina",
            "Kosovo (under United Nations Security Council Resolution 1244/99)",
            "Moldova",
            "Ukraine",
            "Georgia"
           ],
           "name": "",
           "type": "choropleth",
           "z": [
            0,
            28,
            265,
            16839,
            3383,
            0,
            0,
            83,
            139,
            1055,
            807,
            5769,
            0,
            0,
            181,
            0,
            886,
            0,
            1348,
            863.319,
            796,
            0,
            4777,
            0,
            28,
            0,
            0,
            0,
            0,
            121964,
            69665,
            0,
            0,
            500,
            646,
            2160,
            0,
            0,
            0,
            3341,
            0
           ]
          }
         ],
         "name": "2006"
        },
        {
         "data": [
          {
           "coloraxis": "coloraxis",
           "geo": "geo",
           "hovertemplate": "year=2007<br>country Name=%{location}<br>value=%{z}<extra></extra>",
           "locationmode": "country names",
           "locations": [
            "Belgium",
            "Bulgaria",
            "Czechia",
            "Denmark",
            "Germany",
            "Estonia",
            "Ireland",
            "Greece",
            "Spain",
            "France",
            "Croatia",
            "Italy",
            "Cyprus",
            "Latvia",
            "Lithuania",
            "Luxembourg",
            "Hungary",
            "Malta",
            "Netherlands",
            "Austria",
            "Poland",
            "Portugal",
            "Romania",
            "Slovenia",
            "Slovakia",
            "Finland",
            "Sweden",
            "Iceland",
            "Liechtenstein",
            "Norway",
            "United Kingdom",
            "Montenegro",
            "North Macedonia",
            "Albania",
            "Serbia",
            "Türkiye",
            "Bosnia and Herzegovina",
            "Kosovo (under United Nations Security Council Resolution 1244/99)",
            "Moldova",
            "Ukraine",
            "Georgia"
           ],
           "name": "",
           "type": "choropleth",
           "z": [
            0,
            26,
            246,
            15169,
            3361,
            0,
            0,
            74,
            142,
            974,
            768,
            5860,
            0,
            0,
            154,
            0,
            839,
            0,
            2068,
            800.341,
            721,
            0,
            4542,
            0,
            22,
            0,
            0,
            0,
            0,
            110658,
            70357,
            0,
            0,
            564,
            641,
            2134,
            0,
            0,
            0,
            3310,
            0
           ]
          }
         ],
         "name": "2007"
        },
        {
         "data": [
          {
           "coloraxis": "coloraxis",
           "geo": "geo",
           "hovertemplate": "year=2008<br>country Name=%{location}<br>value=%{z}<extra></extra>",
           "locationmode": "country names",
           "locations": [
            "Belgium",
            "Bulgaria",
            "Czechia",
            "Denmark",
            "Germany",
            "Estonia",
            "Ireland",
            "Greece",
            "Spain",
            "France",
            "Croatia",
            "Italy",
            "Cyprus",
            "Latvia",
            "Lithuania",
            "Luxembourg",
            "Hungary",
            "Malta",
            "Netherlands",
            "Austria",
            "Poland",
            "Portugal",
            "Romania",
            "Slovenia",
            "Slovakia",
            "Finland",
            "Sweden",
            "Iceland",
            "Liechtenstein",
            "Norway",
            "United Kingdom",
            "Montenegro",
            "North Macedonia",
            "Albania",
            "Serbia",
            "Türkiye",
            "Bosnia and Herzegovina",
            "Kosovo (under United Nations Security Council Resolution 1244/99)",
            "Moldova",
            "Ukraine",
            "Georgia"
           ],
           "name": "",
           "type": "choropleth",
           "z": [
            0,
            24,
            242,
            14035,
            3024,
            0,
            0,
            59,
            127,
            975,
            717,
            5220,
            0,
            0,
            128,
            0,
            811,
            0,
            1731,
            906.137,
            755,
            0,
            4542,
            0,
            18,
            0,
            0,
            0,
            0,
            106036,
            65497,
            0,
            0,
            578,
            639,
            2160,
            0,
            0,
            0,
            3184,
            0
           ]
          }
         ],
         "name": "2008"
        },
        {
         "data": [
          {
           "coloraxis": "coloraxis",
           "geo": "geo",
           "hovertemplate": "year=2009<br>country Name=%{location}<br>value=%{z}<extra></extra>",
           "locationmode": "country names",
           "locations": [
            "Belgium",
            "Bulgaria",
            "Czechia",
            "Denmark",
            "Germany",
            "Estonia",
            "Ireland",
            "Greece",
            "Spain",
            "France",
            "Croatia",
            "Italy",
            "Cyprus",
            "Latvia",
            "Lithuania",
            "Luxembourg",
            "Hungary",
            "Malta",
            "Netherlands",
            "Austria",
            "Poland",
            "Portugal",
            "Romania",
            "Slovenia",
            "Slovakia",
            "Finland",
            "Sweden",
            "Iceland",
            "Liechtenstein",
            "Norway",
            "United Kingdom",
            "Montenegro",
            "North Macedonia",
            "Albania",
            "Serbia",
            "Türkiye",
            "Bosnia and Herzegovina",
            "Kosovo (under United Nations Security Council Resolution 1244/99)",
            "Moldova",
            "Ukraine",
            "Georgia"
           ],
           "name": "",
           "type": "choropleth",
           "z": [
            0,
            25,
            222,
            12903,
            2768,
            0,
            0,
            80,
            105,
            899,
            667,
            4551,
            0,
            0,
            115,
            0,
            791,
            0,
            1312,
            943.889,
            687,
            0,
            4386,
            0,
            15,
            0,
            0,
            0,
            0,
            100892,
            62820,
            0,
            0,
            577,
            663,
            2402,
            0,
            0,
            0,
            2904,
            0
           ]
          }
         ],
         "name": "2009"
        },
        {
         "data": [
          {
           "coloraxis": "coloraxis",
           "geo": "geo",
           "hovertemplate": "year=2010<br>country Name=%{location}<br>value=%{z}<extra></extra>",
           "locationmode": "country names",
           "locations": [
            "Belgium",
            "Bulgaria",
            "Czechia",
            "Denmark",
            "Germany",
            "Estonia",
            "Ireland",
            "Greece",
            "Spain",
            "France",
            "Croatia",
            "Italy",
            "Cyprus",
            "Latvia",
            "Lithuania",
            "Luxembourg",
            "Hungary",
            "Malta",
            "Netherlands",
            "Austria",
            "Poland",
            "Portugal",
            "Romania",
            "Slovenia",
            "Slovakia",
            "Finland",
            "Sweden",
            "Iceland",
            "Liechtenstein",
            "Norway",
            "United Kingdom",
            "Montenegro",
            "North Macedonia",
            "Albania",
            "Serbia",
            "Türkiye",
            "Bosnia and Herzegovina",
            "Kosovo (under United Nations Security Council Resolution 1244/99)",
            "Moldova",
            "Ukraine",
            "Georgia"
           ],
           "name": "",
           "type": "choropleth",
           "z": [
            0,
            23,
            176,
            12157,
            2486,
            0,
            0,
            115,
            123,
            896,
            616,
            5080,
            0,
            0,
            115,
            0,
            734,
            0,
            1020,
            902.63,
            687,
            0,
            4168,
            0,
            13,
            0,
            0,
            0,
            0,
            91322,
            58047,
            0,
            0,
            744,
            866,
            2508,
            0,
            0,
            11,
            2582,
            0
           ]
          }
         ],
         "name": "2010"
        },
        {
         "data": [
          {
           "coloraxis": "coloraxis",
           "geo": "geo",
           "hovertemplate": "year=2011<br>country Name=%{location}<br>value=%{z}<extra></extra>",
           "locationmode": "country names",
           "locations": [
            "Belgium",
            "Bulgaria",
            "Czechia",
            "Denmark",
            "Germany",
            "Estonia",
            "Ireland",
            "Greece",
            "Spain",
            "France",
            "Croatia",
            "Italy",
            "Cyprus",
            "Latvia",
            "Lithuania",
            "Luxembourg",
            "Hungary",
            "Malta",
            "Netherlands",
            "Austria",
            "Poland",
            "Portugal",
            "Romania",
            "Slovenia",
            "Slovakia",
            "Finland",
            "Sweden",
            "Iceland",
            "Liechtenstein",
            "Norway",
            "United Kingdom",
            "Montenegro",
            "North Macedonia",
            "Albania",
            "Serbia",
            "Türkiye",
            "Bosnia and Herzegovina",
            "Kosovo (under United Nations Security Council Resolution 1244/99)",
            "Moldova",
            "Ukraine",
            "Georgia"
           ],
           "name": "",
           "type": "choropleth",
           "z": [
            0,
            22,
            165,
            10941,
            2627,
            0,
            0,
            98,
            100,
            895,
            580,
            5284,
            0,
            0,
            114,
            0,
            659,
            0,
            1081,
            741.593,
            617,
            0,
            4075,
            0,
            15,
            0,
            0,
            0,
            0,
            85616,
            48571,
            0,
            0,
            895,
            1020,
            2370,
            0,
            0,
            13,
            2438,
            0
           ]
          }
         ],
         "name": "2011"
        },
        {
         "data": [
          {
           "coloraxis": "coloraxis",
           "geo": "geo",
           "hovertemplate": "year=2012<br>country Name=%{location}<br>value=%{z}<extra></extra>",
           "locationmode": "country names",
           "locations": [
            "Belgium",
            "Bulgaria",
            "Czechia",
            "Denmark",
            "Germany",
            "Estonia",
            "Ireland",
            "Greece",
            "Spain",
            "France",
            "Croatia",
            "Italy",
            "Cyprus",
            "Latvia",
            "Lithuania",
            "Luxembourg",
            "Hungary",
            "Malta",
            "Netherlands",
            "Austria",
            "Poland",
            "Portugal",
            "Romania",
            "Slovenia",
            "Slovakia",
            "Finland",
            "Sweden",
            "Iceland",
            "Liechtenstein",
            "Norway",
            "United Kingdom",
            "Montenegro",
            "North Macedonia",
            "Albania",
            "Serbia",
            "Türkiye",
            "Bosnia and Herzegovina",
            "Kosovo (under United Nations Security Council Resolution 1244/99)",
            "Moldova",
            "Ukraine",
            "Georgia"
           ],
           "name": "",
           "type": "choropleth",
           "z": [
            0,
            24,
            156,
            9980,
            2602,
            0,
            0,
            94,
            142,
            807,
            549,
            5397,
            0,
            0,
            102,
            0,
            649,
            0,
            1111,
            840.066,
            681,
            0,
            3860,
            0,
            11,
            0,
            0,
            0,
            0,
            78453,
            42052,
            0,
            0,
            1031,
            1125,
            2338,
            0,
            0,
            11,
            2290,
            0
           ]
          }
         ],
         "name": "2012"
        },
        {
         "data": [
          {
           "coloraxis": "coloraxis",
           "geo": "geo",
           "hovertemplate": "year=2013<br>country Name=%{location}<br>value=%{z}<extra></extra>",
           "locationmode": "country names",
           "locations": [
            "Belgium",
            "Bulgaria",
            "Czechia",
            "Denmark",
            "Germany",
            "Estonia",
            "Ireland",
            "Greece",
            "Spain",
            "France",
            "Croatia",
            "Italy",
            "Cyprus",
            "Latvia",
            "Lithuania",
            "Luxembourg",
            "Hungary",
            "Malta",
            "Netherlands",
            "Austria",
            "Poland",
            "Portugal",
            "Romania",
            "Slovenia",
            "Slovakia",
            "Finland",
            "Sweden",
            "Iceland",
            "Liechtenstein",
            "Norway",
            "United Kingdom",
            "Montenegro",
            "North Macedonia",
            "Albania",
            "Serbia",
            "Türkiye",
            "Bosnia and Herzegovina",
            "Kosovo (under United Nations Security Council Resolution 1244/99)",
            "Moldova",
            "Ukraine",
            "Georgia"
           ],
           "name": "",
           "type": "choropleth",
           "z": [
            0,
            28,
            154,
            8683,
            2636,
            0,
            0,
            70,
            368,
            793,
            536,
            5502,
            0,
            0,
            86,
            0,
            599,
            0,
            1122,
            842.785,
            962,
            0,
            4043,
            0,
            10,
            0,
            0,
            0,
            0,
            74380,
            38456,
            0,
            0,
            1207,
            1160,
            2399,
            0,
            0,
            10,
            2172,
            48
           ]
          }
         ],
         "name": "2013"
        },
        {
         "data": [
          {
           "coloraxis": "coloraxis",
           "geo": "geo",
           "hovertemplate": "year=2014<br>country Name=%{location}<br>value=%{z}<extra></extra>",
           "locationmode": "country names",
           "locations": [
            "Belgium",
            "Bulgaria",
            "Czechia",
            "Denmark",
            "Germany",
            "Estonia",
            "Ireland",
            "Greece",
            "Spain",
            "France",
            "Croatia",
            "Italy",
            "Cyprus",
            "Latvia",
            "Lithuania",
            "Luxembourg",
            "Hungary",
            "Malta",
            "Netherlands",
            "Austria",
            "Poland",
            "Portugal",
            "Romania",
            "Slovenia",
            "Slovakia",
            "Finland",
            "Sweden",
            "Iceland",
            "Liechtenstein",
            "Norway",
            "United Kingdom",
            "Montenegro",
            "North Macedonia",
            "Albania",
            "Serbia",
            "Türkiye",
            "Bosnia and Herzegovina",
            "Kosovo (under United Nations Security Council Resolution 1244/99)",
            "Moldova",
            "Ukraine",
            "Georgia"
           ],
           "name": "",
           "type": "choropleth",
           "z": [
            0,
            26,
            150,
            8131,
            2435,
            0,
            0,
            64,
            305,
            766,
            541,
            5765,
            0,
            0,
            82,
            0,
            584,
            0,
            1525,
            952.569,
            951,
            0,
            3963,
            0,
            9,
            0,
            0,
            0,
            0,
            75691,
            37474,
            0,
            0,
            1368,
            1108,
            2465,
            0,
            0,
            8,
            2042,
            43
           ]
          }
         ],
         "name": "2014"
        },
        {
         "data": [
          {
           "coloraxis": "coloraxis",
           "geo": "geo",
           "hovertemplate": "year=2015<br>country Name=%{location}<br>value=%{z}<extra></extra>",
           "locationmode": "country names",
           "locations": [
            "Belgium",
            "Bulgaria",
            "Czechia",
            "Denmark",
            "Germany",
            "Estonia",
            "Ireland",
            "Greece",
            "Spain",
            "France",
            "Croatia",
            "Italy",
            "Cyprus",
            "Latvia",
            "Lithuania",
            "Luxembourg",
            "Hungary",
            "Malta",
            "Netherlands",
            "Austria",
            "Poland",
            "Portugal",
            "Romania",
            "Slovenia",
            "Slovakia",
            "Finland",
            "Sweden",
            "Iceland",
            "Liechtenstein",
            "Norway",
            "United Kingdom",
            "Montenegro",
            "North Macedonia",
            "Albania",
            "Serbia",
            "Türkiye",
            "Bosnia and Herzegovina",
            "Kosovo (under United Nations Security Council Resolution 1244/99)",
            "Moldova",
            "Ukraine",
            "Georgia"
           ],
           "name": "",
           "type": "choropleth",
           "z": [
            0,
            25,
            128,
            7689.812,
            2414,
            0,
            0,
            62,
            232,
            835,
            619,
            5470,
            0,
            0,
            75,
            0,
            623,
            0,
            1396.24,
            854.014,
            928,
            0,
            3902,
            0,
            10,
            0,
            0,
            0,
            0,
            77899,
            42826,
            0,
            0,
            1279,
            1022,
            2516,
            0,
            0,
            7,
            1877,
            40
           ]
          }
         ],
         "name": "2015"
        },
        {
         "data": [
          {
           "coloraxis": "coloraxis",
           "geo": "geo",
           "hovertemplate": "year=2016<br>country Name=%{location}<br>value=%{z}<extra></extra>",
           "locationmode": "country names",
           "locations": [
            "Belgium",
            "Bulgaria",
            "Czechia",
            "Denmark",
            "Germany",
            "Estonia",
            "Ireland",
            "Greece",
            "Spain",
            "France",
            "Croatia",
            "Italy",
            "Cyprus",
            "Latvia",
            "Lithuania",
            "Luxembourg",
            "Hungary",
            "Malta",
            "Netherlands",
            "Austria",
            "Poland",
            "Portugal",
            "Romania",
            "Slovenia",
            "Slovakia",
            "Finland",
            "Sweden",
            "Iceland",
            "Liechtenstein",
            "Norway",
            "United Kingdom",
            "Montenegro",
            "North Macedonia",
            "Albania",
            "Serbia",
            "Türkiye",
            "Bosnia and Herzegovina",
            "Kosovo (under United Nations Security Council Resolution 1244/99)",
            "Moldova",
            "Ukraine",
            "Georgia"
           ],
           "name": "",
           "type": "choropleth",
           "z": [
            0,
            24,
            117,
            6924.374,
            2357,
            0,
            0,
            176,
            141,
            815,
            684,
            3746,
            0,
            0,
            64,
            0,
            712,
            0,
            956.58,
            785.627,
            1001,
            0,
            3686,
            0,
            8,
            0,
            0,
            0,
            0,
            79836,
            44305.839,
            0,
            0,
            1056,
            930,
            2573,
            0,
            0,
            6,
            1623,
            39
           ]
          }
         ],
         "name": "2016"
        },
        {
         "data": [
          {
           "coloraxis": "coloraxis",
           "geo": "geo",
           "hovertemplate": "year=2017<br>country Name=%{location}<br>value=%{z}<extra></extra>",
           "locationmode": "country names",
           "locations": [
            "Belgium",
            "Bulgaria",
            "Czechia",
            "Denmark",
            "Germany",
            "Estonia",
            "Ireland",
            "Greece",
            "Spain",
            "France",
            "Croatia",
            "Italy",
            "Cyprus",
            "Latvia",
            "Lithuania",
            "Luxembourg",
            "Hungary",
            "Malta",
            "Netherlands",
            "Austria",
            "Poland",
            "Portugal",
            "Romania",
            "Slovenia",
            "Slovakia",
            "Finland",
            "Sweden",
            "Iceland",
            "Liechtenstein",
            "Norway",
            "United Kingdom",
            "Montenegro",
            "North Macedonia",
            "Albania",
            "Serbia",
            "Türkiye",
            "Bosnia and Herzegovina",
            "Kosovo (under United Nations Security Council Resolution 1244/99)",
            "Moldova",
            "Ukraine",
            "Georgia"
           ],
           "name": "",
           "type": "choropleth",
           "z": [
            0,
            23.904,
            108,
            6736.967,
            2217,
            0,
            0,
            141.573,
            120,
            758,
            689.2,
            4138,
            0,
            0,
            55.9,
            0,
            714,
            0,
            951.974,
            697.907,
            996.049,
            0,
            3538.345,
            0.245,
            6,
            0,
            0,
            0,
            0,
            78413,
            43184.672,
            0,
            0,
            958.936,
            888.932,
            2553,
            0,
            0,
            5,
            1505,
            32
           ]
          }
         ],
         "name": "2017"
        },
        {
         "data": [
          {
           "coloraxis": "coloraxis",
           "geo": "geo",
           "hovertemplate": "year=2018<br>country Name=%{location}<br>value=%{z}<extra></extra>",
           "locationmode": "country names",
           "locations": [
            "Belgium",
            "Bulgaria",
            "Czechia",
            "Denmark",
            "Germany",
            "Estonia",
            "Ireland",
            "Greece",
            "Spain",
            "France",
            "Croatia",
            "Italy",
            "Cyprus",
            "Latvia",
            "Lithuania",
            "Luxembourg",
            "Hungary",
            "Malta",
            "Netherlands",
            "Austria",
            "Poland",
            "Portugal",
            "Romania",
            "Slovenia",
            "Slovakia",
            "Finland",
            "Sweden",
            "Iceland",
            "Liechtenstein",
            "Norway",
            "United Kingdom",
            "Montenegro",
            "North Macedonia",
            "Albania",
            "Serbia",
            "Türkiye",
            "Bosnia and Herzegovina",
            "Kosovo (under United Nations Security Council Resolution 1244/99)",
            "Moldova",
            "Ukraine",
            "Georgia"
           ],
           "name": "",
           "type": "choropleth",
           "z": [
            0,
            22.47,
            110,
            5665.787,
            2070,
            0,
            0,
            206.45,
            87,
            773.693,
            688.1,
            4684.199,
            0,
            0,
            46,
            0,
            808,
            0,
            900.887,
            670.467,
            1010.332,
            0,
            3485.778,
            0.271,
            5,
            0,
            0,
            0,
            0,
            73721,
            47550.49,
            0,
            0,
            910.67,
            876.592,
            2851,
            0,
            0,
            5.1,
            1624,
            30.2
           ]
          }
         ],
         "name": "2018"
        },
        {
         "data": [
          {
           "coloraxis": "coloraxis",
           "geo": "geo",
           "hovertemplate": "year=2019<br>country Name=%{location}<br>value=%{z}<extra></extra>",
           "locationmode": "country names",
           "locations": [
            "Belgium",
            "Bulgaria",
            "Czechia",
            "Denmark",
            "Germany",
            "Estonia",
            "Ireland",
            "Greece",
            "Spain",
            "France",
            "Croatia",
            "Italy",
            "Cyprus",
            "Latvia",
            "Lithuania",
            "Luxembourg",
            "Hungary",
            "Malta",
            "Netherlands",
            "Austria",
            "Poland",
            "Portugal",
            "Romania",
            "Slovenia",
            "Slovakia",
            "Finland",
            "Sweden",
            "Iceland",
            "Liechtenstein",
            "Norway",
            "United Kingdom",
            "Montenegro",
            "North Macedonia",
            "Albania",
            "Serbia",
            "Türkiye",
            "Bosnia and Herzegovina",
            "Kosovo (under United Nations Security Council Resolution 1244/99)",
            "Moldova",
            "Ukraine",
            "Georgia"
           ],
           "name": "",
           "type": "choropleth",
           "z": [
            0,
            0,
            81,
            5017.234,
            1927,
            0,
            0,
            168.489,
            40,
            725,
            664,
            4278.553,
            0,
            0,
            39.8,
            0,
            930,
            0,
            746.744,
            634.338,
            972.564,
            0,
            3439.564,
            0.266,
            4,
            0,
            0,
            0,
            0,
            70007.969,
            48743.324,
            0,
            0,
            1005.088,
            850.469,
            2986,
            0,
            0,
            4.8,
            1719.1,
            35.07
           ]
          }
         ],
         "name": "2019"
        },
        {
         "data": [
          {
           "coloraxis": "coloraxis",
           "geo": "geo",
           "hovertemplate": "year=2020<br>country Name=%{location}<br>value=%{z}<extra></extra>",
           "locationmode": "country names",
           "locations": [
            "Belgium",
            "Bulgaria",
            "Czechia",
            "Denmark",
            "Germany",
            "Estonia",
            "Ireland",
            "Greece",
            "Spain",
            "France",
            "Croatia",
            "Italy",
            "Cyprus",
            "Latvia",
            "Lithuania",
            "Luxembourg",
            "Hungary",
            "Malta",
            "Netherlands",
            "Austria",
            "Poland",
            "Portugal",
            "Romania",
            "Slovenia",
            "Slovakia",
            "Finland",
            "Sweden",
            "Iceland",
            "Liechtenstein",
            "Norway",
            "United Kingdom",
            "Montenegro",
            "North Macedonia",
            "Albania",
            "Serbia",
            "Türkiye",
            "Bosnia and Herzegovina",
            "Kosovo (under United Nations Security Council Resolution 1244/99)",
            "Moldova",
            "Ukraine",
            "Georgia"
           ],
           "name": "",
           "type": "choropleth",
           "z": [
            0,
            0,
            92,
            3520.207,
            1907,
            0,
            0,
            91.5,
            28,
            649.676,
            593.7,
            5383.941,
            0,
            0,
            31.5,
            0,
            841,
            0,
            737.3,
            547.735,
            937.462,
            0,
            3334.019,
            0.248,
            2,
            0,
            0,
            0,
            0,
            84378.517,
            0,
            0,
            0,
            758.17,
            827.635,
            3202.924,
            0,
            0,
            5.4,
            1674.8,
            31.293
           ]
          }
         ],
         "name": "2020"
        }
       ],
       "layout": {
        "autosize": true,
        "coloraxis": {
         "colorbar": {
          "title": {
           "text": "value"
          }
         },
         "colorscale": [
          [
           0,
           "#440154"
          ],
          [
           0.1111111111111111,
           "#482878"
          ],
          [
           0.2222222222222222,
           "#3e4989"
          ],
          [
           0.3333333333333333,
           "#31688e"
          ],
          [
           0.4444444444444444,
           "#26828e"
          ],
          [
           0.5555555555555556,
           "#1f9e89"
          ],
          [
           0.6666666666666666,
           "#35b779"
          ],
          [
           0.7777777777777778,
           "#6ece58"
          ],
          [
           0.8888888888888888,
           "#b5de2b"
          ],
          [
           1,
           "#fde725"
          ]
         ]
        },
        "geo": {
         "center": {},
         "domain": {
          "x": [
           0,
           1
          ],
          "y": [
           0,
           1
          ]
         },
         "scope": "europe"
        },
        "height": 500,
        "legend": {
         "tracegroupgap": 0
        },
        "margin": {
         "b": 10,
         "l": 10,
         "pad": 1,
         "r": 10,
         "t": 10
        },
        "sliders": [
         {
          "active": 0,
          "currentvalue": {
           "prefix": "year="
          },
          "len": 0.9,
          "pad": {
           "b": 10,
           "t": 60
          },
          "steps": [
           {
            "args": [
             [
              "1990"
             ],
             {
              "frame": {
               "duration": 0,
               "redraw": true
              },
              "fromcurrent": true,
              "mode": "immediate",
              "transition": {
               "duration": 0,
               "easing": "linear"
              }
             }
            ],
            "label": "1990",
            "method": "animate"
           },
           {
            "args": [
             [
              "1991"
             ],
             {
              "frame": {
               "duration": 0,
               "redraw": true
              },
              "fromcurrent": true,
              "mode": "immediate",
              "transition": {
               "duration": 0,
               "easing": "linear"
              }
             }
            ],
            "label": "1991",
            "method": "animate"
           },
           {
            "args": [
             [
              "1992"
             ],
             {
              "frame": {
               "duration": 0,
               "redraw": true
              },
              "fromcurrent": true,
              "mode": "immediate",
              "transition": {
               "duration": 0,
               "easing": "linear"
              }
             }
            ],
            "label": "1992",
            "method": "animate"
           },
           {
            "args": [
             [
              "1993"
             ],
             {
              "frame": {
               "duration": 0,
               "redraw": true
              },
              "fromcurrent": true,
              "mode": "immediate",
              "transition": {
               "duration": 0,
               "easing": "linear"
              }
             }
            ],
            "label": "1993",
            "method": "animate"
           },
           {
            "args": [
             [
              "1994"
             ],
             {
              "frame": {
               "duration": 0,
               "redraw": true
              },
              "fromcurrent": true,
              "mode": "immediate",
              "transition": {
               "duration": 0,
               "easing": "linear"
              }
             }
            ],
            "label": "1994",
            "method": "animate"
           },
           {
            "args": [
             [
              "1995"
             ],
             {
              "frame": {
               "duration": 0,
               "redraw": true
              },
              "fromcurrent": true,
              "mode": "immediate",
              "transition": {
               "duration": 0,
               "easing": "linear"
              }
             }
            ],
            "label": "1995",
            "method": "animate"
           },
           {
            "args": [
             [
              "1996"
             ],
             {
              "frame": {
               "duration": 0,
               "redraw": true
              },
              "fromcurrent": true,
              "mode": "immediate",
              "transition": {
               "duration": 0,
               "easing": "linear"
              }
             }
            ],
            "label": "1996",
            "method": "animate"
           },
           {
            "args": [
             [
              "1997"
             ],
             {
              "frame": {
               "duration": 0,
               "redraw": true
              },
              "fromcurrent": true,
              "mode": "immediate",
              "transition": {
               "duration": 0,
               "easing": "linear"
              }
             }
            ],
            "label": "1997",
            "method": "animate"
           },
           {
            "args": [
             [
              "1998"
             ],
             {
              "frame": {
               "duration": 0,
               "redraw": true
              },
              "fromcurrent": true,
              "mode": "immediate",
              "transition": {
               "duration": 0,
               "easing": "linear"
              }
             }
            ],
            "label": "1998",
            "method": "animate"
           },
           {
            "args": [
             [
              "1999"
             ],
             {
              "frame": {
               "duration": 0,
               "redraw": true
              },
              "fromcurrent": true,
              "mode": "immediate",
              "transition": {
               "duration": 0,
               "easing": "linear"
              }
             }
            ],
            "label": "1999",
            "method": "animate"
           },
           {
            "args": [
             [
              "2000"
             ],
             {
              "frame": {
               "duration": 0,
               "redraw": true
              },
              "fromcurrent": true,
              "mode": "immediate",
              "transition": {
               "duration": 0,
               "easing": "linear"
              }
             }
            ],
            "label": "2000",
            "method": "animate"
           },
           {
            "args": [
             [
              "2001"
             ],
             {
              "frame": {
               "duration": 0,
               "redraw": true
              },
              "fromcurrent": true,
              "mode": "immediate",
              "transition": {
               "duration": 0,
               "easing": "linear"
              }
             }
            ],
            "label": "2001",
            "method": "animate"
           },
           {
            "args": [
             [
              "2002"
             ],
             {
              "frame": {
               "duration": 0,
               "redraw": true
              },
              "fromcurrent": true,
              "mode": "immediate",
              "transition": {
               "duration": 0,
               "easing": "linear"
              }
             }
            ],
            "label": "2002",
            "method": "animate"
           },
           {
            "args": [
             [
              "2003"
             ],
             {
              "frame": {
               "duration": 0,
               "redraw": true
              },
              "fromcurrent": true,
              "mode": "immediate",
              "transition": {
               "duration": 0,
               "easing": "linear"
              }
             }
            ],
            "label": "2003",
            "method": "animate"
           },
           {
            "args": [
             [
              "2004"
             ],
             {
              "frame": {
               "duration": 0,
               "redraw": true
              },
              "fromcurrent": true,
              "mode": "immediate",
              "transition": {
               "duration": 0,
               "easing": "linear"
              }
             }
            ],
            "label": "2004",
            "method": "animate"
           },
           {
            "args": [
             [
              "2005"
             ],
             {
              "frame": {
               "duration": 0,
               "redraw": true
              },
              "fromcurrent": true,
              "mode": "immediate",
              "transition": {
               "duration": 0,
               "easing": "linear"
              }
             }
            ],
            "label": "2005",
            "method": "animate"
           },
           {
            "args": [
             [
              "2006"
             ],
             {
              "frame": {
               "duration": 0,
               "redraw": true
              },
              "fromcurrent": true,
              "mode": "immediate",
              "transition": {
               "duration": 0,
               "easing": "linear"
              }
             }
            ],
            "label": "2006",
            "method": "animate"
           },
           {
            "args": [
             [
              "2007"
             ],
             {
              "frame": {
               "duration": 0,
               "redraw": true
              },
              "fromcurrent": true,
              "mode": "immediate",
              "transition": {
               "duration": 0,
               "easing": "linear"
              }
             }
            ],
            "label": "2007",
            "method": "animate"
           },
           {
            "args": [
             [
              "2008"
             ],
             {
              "frame": {
               "duration": 0,
               "redraw": true
              },
              "fromcurrent": true,
              "mode": "immediate",
              "transition": {
               "duration": 0,
               "easing": "linear"
              }
             }
            ],
            "label": "2008",
            "method": "animate"
           },
           {
            "args": [
             [
              "2009"
             ],
             {
              "frame": {
               "duration": 0,
               "redraw": true
              },
              "fromcurrent": true,
              "mode": "immediate",
              "transition": {
               "duration": 0,
               "easing": "linear"
              }
             }
            ],
            "label": "2009",
            "method": "animate"
           },
           {
            "args": [
             [
              "2010"
             ],
             {
              "frame": {
               "duration": 0,
               "redraw": true
              },
              "fromcurrent": true,
              "mode": "immediate",
              "transition": {
               "duration": 0,
               "easing": "linear"
              }
             }
            ],
            "label": "2010",
            "method": "animate"
           },
           {
            "args": [
             [
              "2011"
             ],
             {
              "frame": {
               "duration": 0,
               "redraw": true
              },
              "fromcurrent": true,
              "mode": "immediate",
              "transition": {
               "duration": 0,
               "easing": "linear"
              }
             }
            ],
            "label": "2011",
            "method": "animate"
           },
           {
            "args": [
             [
              "2012"
             ],
             {
              "frame": {
               "duration": 0,
               "redraw": true
              },
              "fromcurrent": true,
              "mode": "immediate",
              "transition": {
               "duration": 0,
               "easing": "linear"
              }
             }
            ],
            "label": "2012",
            "method": "animate"
           },
           {
            "args": [
             [
              "2013"
             ],
             {
              "frame": {
               "duration": 0,
               "redraw": true
              },
              "fromcurrent": true,
              "mode": "immediate",
              "transition": {
               "duration": 0,
               "easing": "linear"
              }
             }
            ],
            "label": "2013",
            "method": "animate"
           },
           {
            "args": [
             [
              "2014"
             ],
             {
              "frame": {
               "duration": 0,
               "redraw": true
              },
              "fromcurrent": true,
              "mode": "immediate",
              "transition": {
               "duration": 0,
               "easing": "linear"
              }
             }
            ],
            "label": "2014",
            "method": "animate"
           },
           {
            "args": [
             [
              "2015"
             ],
             {
              "frame": {
               "duration": 0,
               "redraw": true
              },
              "fromcurrent": true,
              "mode": "immediate",
              "transition": {
               "duration": 0,
               "easing": "linear"
              }
             }
            ],
            "label": "2015",
            "method": "animate"
           },
           {
            "args": [
             [
              "2016"
             ],
             {
              "frame": {
               "duration": 0,
               "redraw": true
              },
              "fromcurrent": true,
              "mode": "immediate",
              "transition": {
               "duration": 0,
               "easing": "linear"
              }
             }
            ],
            "label": "2016",
            "method": "animate"
           },
           {
            "args": [
             [
              "2017"
             ],
             {
              "frame": {
               "duration": 0,
               "redraw": true
              },
              "fromcurrent": true,
              "mode": "immediate",
              "transition": {
               "duration": 0,
               "easing": "linear"
              }
             }
            ],
            "label": "2017",
            "method": "animate"
           },
           {
            "args": [
             [
              "2018"
             ],
             {
              "frame": {
               "duration": 0,
               "redraw": true
              },
              "fromcurrent": true,
              "mode": "immediate",
              "transition": {
               "duration": 0,
               "easing": "linear"
              }
             }
            ],
            "label": "2018",
            "method": "animate"
           },
           {
            "args": [
             [
              "2019"
             ],
             {
              "frame": {
               "duration": 0,
               "redraw": true
              },
              "fromcurrent": true,
              "mode": "immediate",
              "transition": {
               "duration": 0,
               "easing": "linear"
              }
             }
            ],
            "label": "2019",
            "method": "animate"
           },
           {
            "args": [
             [
              "2020"
             ],
             {
              "frame": {
               "duration": 0,
               "redraw": true
              },
              "fromcurrent": true,
              "mode": "immediate",
              "transition": {
               "duration": 0,
               "easing": "linear"
              }
             }
            ],
            "label": "2020",
            "method": "animate"
           }
          ],
          "x": 0.1,
          "xanchor": "left",
          "y": 0,
          "yanchor": "top"
         }
        ],
        "template": {
         "data": {
          "bar": [
           {
            "error_x": {
             "color": "#2a3f5f"
            },
            "error_y": {
             "color": "#2a3f5f"
            },
            "marker": {
             "line": {
              "color": "#E5ECF6",
              "width": 0.5
             },
             "pattern": {
              "fillmode": "overlay",
              "size": 10,
              "solidity": 0.2
             }
            },
            "type": "bar"
           }
          ],
          "barpolar": [
           {
            "marker": {
             "line": {
              "color": "#E5ECF6",
              "width": 0.5
             },
             "pattern": {
              "fillmode": "overlay",
              "size": 10,
              "solidity": 0.2
             }
            },
            "type": "barpolar"
           }
          ],
          "carpet": [
           {
            "aaxis": {
             "endlinecolor": "#2a3f5f",
             "gridcolor": "white",
             "linecolor": "white",
             "minorgridcolor": "white",
             "startlinecolor": "#2a3f5f"
            },
            "baxis": {
             "endlinecolor": "#2a3f5f",
             "gridcolor": "white",
             "linecolor": "white",
             "minorgridcolor": "white",
             "startlinecolor": "#2a3f5f"
            },
            "type": "carpet"
           }
          ],
          "choropleth": [
           {
            "colorbar": {
             "outlinewidth": 0,
             "ticks": ""
            },
            "type": "choropleth"
           }
          ],
          "contour": [
           {
            "colorbar": {
             "outlinewidth": 0,
             "ticks": ""
            },
            "colorscale": [
             [
              0,
              "#0d0887"
             ],
             [
              0.1111111111111111,
              "#46039f"
             ],
             [
              0.2222222222222222,
              "#7201a8"
             ],
             [
              0.3333333333333333,
              "#9c179e"
             ],
             [
              0.4444444444444444,
              "#bd3786"
             ],
             [
              0.5555555555555556,
              "#d8576b"
             ],
             [
              0.6666666666666666,
              "#ed7953"
             ],
             [
              0.7777777777777778,
              "#fb9f3a"
             ],
             [
              0.8888888888888888,
              "#fdca26"
             ],
             [
              1,
              "#f0f921"
             ]
            ],
            "type": "contour"
           }
          ],
          "contourcarpet": [
           {
            "colorbar": {
             "outlinewidth": 0,
             "ticks": ""
            },
            "type": "contourcarpet"
           }
          ],
          "heatmap": [
           {
            "colorbar": {
             "outlinewidth": 0,
             "ticks": ""
            },
            "colorscale": [
             [
              0,
              "#0d0887"
             ],
             [
              0.1111111111111111,
              "#46039f"
             ],
             [
              0.2222222222222222,
              "#7201a8"
             ],
             [
              0.3333333333333333,
              "#9c179e"
             ],
             [
              0.4444444444444444,
              "#bd3786"
             ],
             [
              0.5555555555555556,
              "#d8576b"
             ],
             [
              0.6666666666666666,
              "#ed7953"
             ],
             [
              0.7777777777777778,
              "#fb9f3a"
             ],
             [
              0.8888888888888888,
              "#fdca26"
             ],
             [
              1,
              "#f0f921"
             ]
            ],
            "type": "heatmap"
           }
          ],
          "heatmapgl": [
           {
            "colorbar": {
             "outlinewidth": 0,
             "ticks": ""
            },
            "colorscale": [
             [
              0,
              "#0d0887"
             ],
             [
              0.1111111111111111,
              "#46039f"
             ],
             [
              0.2222222222222222,
              "#7201a8"
             ],
             [
              0.3333333333333333,
              "#9c179e"
             ],
             [
              0.4444444444444444,
              "#bd3786"
             ],
             [
              0.5555555555555556,
              "#d8576b"
             ],
             [
              0.6666666666666666,
              "#ed7953"
             ],
             [
              0.7777777777777778,
              "#fb9f3a"
             ],
             [
              0.8888888888888888,
              "#fdca26"
             ],
             [
              1,
              "#f0f921"
             ]
            ],
            "type": "heatmapgl"
           }
          ],
          "histogram": [
           {
            "marker": {
             "pattern": {
              "fillmode": "overlay",
              "size": 10,
              "solidity": 0.2
             }
            },
            "type": "histogram"
           }
          ],
          "histogram2d": [
           {
            "colorbar": {
             "outlinewidth": 0,
             "ticks": ""
            },
            "colorscale": [
             [
              0,
              "#0d0887"
             ],
             [
              0.1111111111111111,
              "#46039f"
             ],
             [
              0.2222222222222222,
              "#7201a8"
             ],
             [
              0.3333333333333333,
              "#9c179e"
             ],
             [
              0.4444444444444444,
              "#bd3786"
             ],
             [
              0.5555555555555556,
              "#d8576b"
             ],
             [
              0.6666666666666666,
              "#ed7953"
             ],
             [
              0.7777777777777778,
              "#fb9f3a"
             ],
             [
              0.8888888888888888,
              "#fdca26"
             ],
             [
              1,
              "#f0f921"
             ]
            ],
            "type": "histogram2d"
           }
          ],
          "histogram2dcontour": [
           {
            "colorbar": {
             "outlinewidth": 0,
             "ticks": ""
            },
            "colorscale": [
             [
              0,
              "#0d0887"
             ],
             [
              0.1111111111111111,
              "#46039f"
             ],
             [
              0.2222222222222222,
              "#7201a8"
             ],
             [
              0.3333333333333333,
              "#9c179e"
             ],
             [
              0.4444444444444444,
              "#bd3786"
             ],
             [
              0.5555555555555556,
              "#d8576b"
             ],
             [
              0.6666666666666666,
              "#ed7953"
             ],
             [
              0.7777777777777778,
              "#fb9f3a"
             ],
             [
              0.8888888888888888,
              "#fdca26"
             ],
             [
              1,
              "#f0f921"
             ]
            ],
            "type": "histogram2dcontour"
           }
          ],
          "mesh3d": [
           {
            "colorbar": {
             "outlinewidth": 0,
             "ticks": ""
            },
            "type": "mesh3d"
           }
          ],
          "parcoords": [
           {
            "line": {
             "colorbar": {
              "outlinewidth": 0,
              "ticks": ""
             }
            },
            "type": "parcoords"
           }
          ],
          "pie": [
           {
            "automargin": true,
            "type": "pie"
           }
          ],
          "scatter": [
           {
            "fillpattern": {
             "fillmode": "overlay",
             "size": 10,
             "solidity": 0.2
            },
            "type": "scatter"
           }
          ],
          "scatter3d": [
           {
            "line": {
             "colorbar": {
              "outlinewidth": 0,
              "ticks": ""
             }
            },
            "marker": {
             "colorbar": {
              "outlinewidth": 0,
              "ticks": ""
             }
            },
            "type": "scatter3d"
           }
          ],
          "scattercarpet": [
           {
            "marker": {
             "colorbar": {
              "outlinewidth": 0,
              "ticks": ""
             }
            },
            "type": "scattercarpet"
           }
          ],
          "scattergeo": [
           {
            "marker": {
             "colorbar": {
              "outlinewidth": 0,
              "ticks": ""
             }
            },
            "type": "scattergeo"
           }
          ],
          "scattergl": [
           {
            "marker": {
             "colorbar": {
              "outlinewidth": 0,
              "ticks": ""
             }
            },
            "type": "scattergl"
           }
          ],
          "scattermapbox": [
           {
            "marker": {
             "colorbar": {
              "outlinewidth": 0,
              "ticks": ""
             }
            },
            "type": "scattermapbox"
           }
          ],
          "scatterpolar": [
           {
            "marker": {
             "colorbar": {
              "outlinewidth": 0,
              "ticks": ""
             }
            },
            "type": "scatterpolar"
           }
          ],
          "scatterpolargl": [
           {
            "marker": {
             "colorbar": {
              "outlinewidth": 0,
              "ticks": ""
             }
            },
            "type": "scatterpolargl"
           }
          ],
          "scatterternary": [
           {
            "marker": {
             "colorbar": {
              "outlinewidth": 0,
              "ticks": ""
             }
            },
            "type": "scatterternary"
           }
          ],
          "surface": [
           {
            "colorbar": {
             "outlinewidth": 0,
             "ticks": ""
            },
            "colorscale": [
             [
              0,
              "#0d0887"
             ],
             [
              0.1111111111111111,
              "#46039f"
             ],
             [
              0.2222222222222222,
              "#7201a8"
             ],
             [
              0.3333333333333333,
              "#9c179e"
             ],
             [
              0.4444444444444444,
              "#bd3786"
             ],
             [
              0.5555555555555556,
              "#d8576b"
             ],
             [
              0.6666666666666666,
              "#ed7953"
             ],
             [
              0.7777777777777778,
              "#fb9f3a"
             ],
             [
              0.8888888888888888,
              "#fdca26"
             ],
             [
              1,
              "#f0f921"
             ]
            ],
            "type": "surface"
           }
          ],
          "table": [
           {
            "cells": {
             "fill": {
              "color": "#EBF0F8"
             },
             "line": {
              "color": "white"
             }
            },
            "header": {
             "fill": {
              "color": "#C8D4E3"
             },
             "line": {
              "color": "white"
             }
            },
            "type": "table"
           }
          ]
         },
         "layout": {
          "annotationdefaults": {
           "arrowcolor": "#2a3f5f",
           "arrowhead": 0,
           "arrowwidth": 1
          },
          "autotypenumbers": "strict",
          "coloraxis": {
           "colorbar": {
            "outlinewidth": 0,
            "ticks": ""
           }
          },
          "colorscale": {
           "diverging": [
            [
             0,
             "#8e0152"
            ],
            [
             0.1,
             "#c51b7d"
            ],
            [
             0.2,
             "#de77ae"
            ],
            [
             0.3,
             "#f1b6da"
            ],
            [
             0.4,
             "#fde0ef"
            ],
            [
             0.5,
             "#f7f7f7"
            ],
            [
             0.6,
             "#e6f5d0"
            ],
            [
             0.7,
             "#b8e186"
            ],
            [
             0.8,
             "#7fbc41"
            ],
            [
             0.9,
             "#4d9221"
            ],
            [
             1,
             "#276419"
            ]
           ],
           "sequential": [
            [
             0,
             "#0d0887"
            ],
            [
             0.1111111111111111,
             "#46039f"
            ],
            [
             0.2222222222222222,
             "#7201a8"
            ],
            [
             0.3333333333333333,
             "#9c179e"
            ],
            [
             0.4444444444444444,
             "#bd3786"
            ],
            [
             0.5555555555555556,
             "#d8576b"
            ],
            [
             0.6666666666666666,
             "#ed7953"
            ],
            [
             0.7777777777777778,
             "#fb9f3a"
            ],
            [
             0.8888888888888888,
             "#fdca26"
            ],
            [
             1,
             "#f0f921"
            ]
           ],
           "sequentialminus": [
            [
             0,
             "#0d0887"
            ],
            [
             0.1111111111111111,
             "#46039f"
            ],
            [
             0.2222222222222222,
             "#7201a8"
            ],
            [
             0.3333333333333333,
             "#9c179e"
            ],
            [
             0.4444444444444444,
             "#bd3786"
            ],
            [
             0.5555555555555556,
             "#d8576b"
            ],
            [
             0.6666666666666666,
             "#ed7953"
            ],
            [
             0.7777777777777778,
             "#fb9f3a"
            ],
            [
             0.8888888888888888,
             "#fdca26"
            ],
            [
             1,
             "#f0f921"
            ]
           ]
          },
          "colorway": [
           "#636efa",
           "#EF553B",
           "#00cc96",
           "#ab63fa",
           "#FFA15A",
           "#19d3f3",
           "#FF6692",
           "#B6E880",
           "#FF97FF",
           "#FECB52"
          ],
          "font": {
           "color": "#2a3f5f"
          },
          "geo": {
           "bgcolor": "white",
           "lakecolor": "white",
           "landcolor": "#E5ECF6",
           "showlakes": true,
           "showland": true,
           "subunitcolor": "white"
          },
          "hoverlabel": {
           "align": "left"
          },
          "hovermode": "closest",
          "mapbox": {
           "style": "light"
          },
          "paper_bgcolor": "white",
          "plot_bgcolor": "#E5ECF6",
          "polar": {
           "angularaxis": {
            "gridcolor": "white",
            "linecolor": "white",
            "ticks": ""
           },
           "bgcolor": "#E5ECF6",
           "radialaxis": {
            "gridcolor": "white",
            "linecolor": "white",
            "ticks": ""
           }
          },
          "scene": {
           "xaxis": {
            "backgroundcolor": "#E5ECF6",
            "gridcolor": "white",
            "gridwidth": 2,
            "linecolor": "white",
            "showbackground": true,
            "ticks": "",
            "zerolinecolor": "white"
           },
           "yaxis": {
            "backgroundcolor": "#E5ECF6",
            "gridcolor": "white",
            "gridwidth": 2,
            "linecolor": "white",
            "showbackground": true,
            "ticks": "",
            "zerolinecolor": "white"
           },
           "zaxis": {
            "backgroundcolor": "#E5ECF6",
            "gridcolor": "white",
            "gridwidth": 2,
            "linecolor": "white",
            "showbackground": true,
            "ticks": "",
            "zerolinecolor": "white"
           }
          },
          "shapedefaults": {
           "line": {
            "color": "#2a3f5f"
           }
          },
          "ternary": {
           "aaxis": {
            "gridcolor": "white",
            "linecolor": "white",
            "ticks": ""
           },
           "baxis": {
            "gridcolor": "white",
            "linecolor": "white",
            "ticks": ""
           },
           "bgcolor": "#E5ECF6",
           "caxis": {
            "gridcolor": "white",
            "linecolor": "white",
            "ticks": ""
           }
          },
          "title": {
           "x": 0.05
          },
          "xaxis": {
           "automargin": true,
           "gridcolor": "white",
           "linecolor": "white",
           "ticks": "",
           "title": {
            "standoff": 15
           },
           "zerolinecolor": "white",
           "zerolinewidth": 2
          },
          "yaxis": {
           "automargin": true,
           "gridcolor": "white",
           "linecolor": "white",
           "ticks": "",
           "title": {
            "standoff": 15
           },
           "zerolinecolor": "white",
           "zerolinewidth": 2
          }
         }
        },
        "updatemenus": [
         {
          "buttons": [
           {
            "args": [
             null,
             {
              "frame": {
               "duration": 500,
               "redraw": true
              },
              "fromcurrent": true,
              "mode": "immediate",
              "transition": {
               "duration": 500,
               "easing": "linear"
              }
             }
            ],
            "label": "&#9654;",
            "method": "animate"
           },
           {
            "args": [
             [
              null
             ],
             {
              "frame": {
               "duration": 0,
               "redraw": true
              },
              "fromcurrent": true,
              "mode": "immediate",
              "transition": {
               "duration": 0,
               "easing": "linear"
              }
             }
            ],
            "label": "&#9724;",
            "method": "animate"
           }
          ],
          "direction": "left",
          "pad": {
           "r": 10,
           "t": 70
          },
          "showactive": false,
          "type": "buttons",
          "x": 0.1,
          "xanchor": "right",
          "y": 0,
          "yanchor": "top"
         }
        ],
        "width": 700
       }
      },
      "text/html": [
       "<div>                            <div id=\"3b147a90-d402-433f-afef-b2547f6d6c39\" class=\"plotly-graph-div\" style=\"height:500px; width:700px;\"></div>            <script type=\"text/javascript\">                require([\"plotly\"], function(Plotly) {                    window.PLOTLYENV=window.PLOTLYENV || {};                                    if (document.getElementById(\"3b147a90-d402-433f-afef-b2547f6d6c39\")) {                    Plotly.newPlot(                        \"3b147a90-d402-433f-afef-b2547f6d6c39\",                        [{\"coloraxis\":\"coloraxis\",\"geo\":\"geo\",\"hovertemplate\":\"year=1990<br>country Name=%{location}<br>value=%{z}<extra></extra>\",\"locationmode\":\"country names\",\"locations\":[\"Belgium\",\"Bulgaria\",\"Czechia\",\"Denmark\",\"Germany\",\"Estonia\",\"Ireland\",\"Greece\",\"Spain\",\"France\",\"Croatia\",\"Italy\",\"Cyprus\",\"Latvia\",\"Lithuania\",\"Luxembourg\",\"Hungary\",\"Malta\",\"Netherlands\",\"Austria\",\"Poland\",\"Portugal\",\"Romania\",\"Slovenia\",\"Slovakia\",\"Finland\",\"Sweden\",\"Iceland\",\"Liechtenstein\",\"Norway\",\"United Kingdom\",\"Montenegro\",\"North Macedonia\",\"Albania\",\"Serbia\",\"T\\u00fcrkiye\",\"Bosnia and Herzegovina\",\"Kosovo (under United Nations Security Council Resolution 1244/99)\",\"Moldova\",\"Ukraine\",\"Georgia\"],\"name\":\"\",\"z\":[0.0,60.0,50.0,5994.0,3648.0,0.0,0.0,773.0,795.0,3024.0,2497.0,4641.0,0.0,0.0,12.0,0.0,1915.0,0.0,3533.0,1149.0,160.0,0.0,7929.0,3.0,73.0,0.0,3.0,0.0,0.0,79663.0,87990.0,0.0,0.0,1067.0,1063.0,3712.0,0.0,0.0,0.0,4092.0,0.0],\"type\":\"choropleth\"}],                        {\"template\":{\"data\":{\"histogram2dcontour\":[{\"type\":\"histogram2dcontour\",\"colorbar\":{\"outlinewidth\":0,\"ticks\":\"\"},\"colorscale\":[[0.0,\"#0d0887\"],[0.1111111111111111,\"#46039f\"],[0.2222222222222222,\"#7201a8\"],[0.3333333333333333,\"#9c179e\"],[0.4444444444444444,\"#bd3786\"],[0.5555555555555556,\"#d8576b\"],[0.6666666666666666,\"#ed7953\"],[0.7777777777777778,\"#fb9f3a\"],[0.8888888888888888,\"#fdca26\"],[1.0,\"#f0f921\"]]}],\"choropleth\":[{\"type\":\"choropleth\",\"colorbar\":{\"outlinewidth\":0,\"ticks\":\"\"}}],\"histogram2d\":[{\"type\":\"histogram2d\",\"colorbar\":{\"outlinewidth\":0,\"ticks\":\"\"},\"colorscale\":[[0.0,\"#0d0887\"],[0.1111111111111111,\"#46039f\"],[0.2222222222222222,\"#7201a8\"],[0.3333333333333333,\"#9c179e\"],[0.4444444444444444,\"#bd3786\"],[0.5555555555555556,\"#d8576b\"],[0.6666666666666666,\"#ed7953\"],[0.7777777777777778,\"#fb9f3a\"],[0.8888888888888888,\"#fdca26\"],[1.0,\"#f0f921\"]]}],\"heatmap\":[{\"type\":\"heatmap\",\"colorbar\":{\"outlinewidth\":0,\"ticks\":\"\"},\"colorscale\":[[0.0,\"#0d0887\"],[0.1111111111111111,\"#46039f\"],[0.2222222222222222,\"#7201a8\"],[0.3333333333333333,\"#9c179e\"],[0.4444444444444444,\"#bd3786\"],[0.5555555555555556,\"#d8576b\"],[0.6666666666666666,\"#ed7953\"],[0.7777777777777778,\"#fb9f3a\"],[0.8888888888888888,\"#fdca26\"],[1.0,\"#f0f921\"]]}],\"heatmapgl\":[{\"type\":\"heatmapgl\",\"colorbar\":{\"outlinewidth\":0,\"ticks\":\"\"},\"colorscale\":[[0.0,\"#0d0887\"],[0.1111111111111111,\"#46039f\"],[0.2222222222222222,\"#7201a8\"],[0.3333333333333333,\"#9c179e\"],[0.4444444444444444,\"#bd3786\"],[0.5555555555555556,\"#d8576b\"],[0.6666666666666666,\"#ed7953\"],[0.7777777777777778,\"#fb9f3a\"],[0.8888888888888888,\"#fdca26\"],[1.0,\"#f0f921\"]]}],\"contourcarpet\":[{\"type\":\"contourcarpet\",\"colorbar\":{\"outlinewidth\":0,\"ticks\":\"\"}}],\"contour\":[{\"type\":\"contour\",\"colorbar\":{\"outlinewidth\":0,\"ticks\":\"\"},\"colorscale\":[[0.0,\"#0d0887\"],[0.1111111111111111,\"#46039f\"],[0.2222222222222222,\"#7201a8\"],[0.3333333333333333,\"#9c179e\"],[0.4444444444444444,\"#bd3786\"],[0.5555555555555556,\"#d8576b\"],[0.6666666666666666,\"#ed7953\"],[0.7777777777777778,\"#fb9f3a\"],[0.8888888888888888,\"#fdca26\"],[1.0,\"#f0f921\"]]}],\"surface\":[{\"type\":\"surface\",\"colorbar\":{\"outlinewidth\":0,\"ticks\":\"\"},\"colorscale\":[[0.0,\"#0d0887\"],[0.1111111111111111,\"#46039f\"],[0.2222222222222222,\"#7201a8\"],[0.3333333333333333,\"#9c179e\"],[0.4444444444444444,\"#bd3786\"],[0.5555555555555556,\"#d8576b\"],[0.6666666666666666,\"#ed7953\"],[0.7777777777777778,\"#fb9f3a\"],[0.8888888888888888,\"#fdca26\"],[1.0,\"#f0f921\"]]}],\"mesh3d\":[{\"type\":\"mesh3d\",\"colorbar\":{\"outlinewidth\":0,\"ticks\":\"\"}}],\"scatter\":[{\"fillpattern\":{\"fillmode\":\"overlay\",\"size\":10,\"solidity\":0.2},\"type\":\"scatter\"}],\"parcoords\":[{\"type\":\"parcoords\",\"line\":{\"colorbar\":{\"outlinewidth\":0,\"ticks\":\"\"}}}],\"scatterpolargl\":[{\"type\":\"scatterpolargl\",\"marker\":{\"colorbar\":{\"outlinewidth\":0,\"ticks\":\"\"}}}],\"bar\":[{\"error_x\":{\"color\":\"#2a3f5f\"},\"error_y\":{\"color\":\"#2a3f5f\"},\"marker\":{\"line\":{\"color\":\"#E5ECF6\",\"width\":0.5},\"pattern\":{\"fillmode\":\"overlay\",\"size\":10,\"solidity\":0.2}},\"type\":\"bar\"}],\"scattergeo\":[{\"type\":\"scattergeo\",\"marker\":{\"colorbar\":{\"outlinewidth\":0,\"ticks\":\"\"}}}],\"scatterpolar\":[{\"type\":\"scatterpolar\",\"marker\":{\"colorbar\":{\"outlinewidth\":0,\"ticks\":\"\"}}}],\"histogram\":[{\"marker\":{\"pattern\":{\"fillmode\":\"overlay\",\"size\":10,\"solidity\":0.2}},\"type\":\"histogram\"}],\"scattergl\":[{\"type\":\"scattergl\",\"marker\":{\"colorbar\":{\"outlinewidth\":0,\"ticks\":\"\"}}}],\"scatter3d\":[{\"type\":\"scatter3d\",\"line\":{\"colorbar\":{\"outlinewidth\":0,\"ticks\":\"\"}},\"marker\":{\"colorbar\":{\"outlinewidth\":0,\"ticks\":\"\"}}}],\"scattermapbox\":[{\"type\":\"scattermapbox\",\"marker\":{\"colorbar\":{\"outlinewidth\":0,\"ticks\":\"\"}}}],\"scatterternary\":[{\"type\":\"scatterternary\",\"marker\":{\"colorbar\":{\"outlinewidth\":0,\"ticks\":\"\"}}}],\"scattercarpet\":[{\"type\":\"scattercarpet\",\"marker\":{\"colorbar\":{\"outlinewidth\":0,\"ticks\":\"\"}}}],\"carpet\":[{\"aaxis\":{\"endlinecolor\":\"#2a3f5f\",\"gridcolor\":\"white\",\"linecolor\":\"white\",\"minorgridcolor\":\"white\",\"startlinecolor\":\"#2a3f5f\"},\"baxis\":{\"endlinecolor\":\"#2a3f5f\",\"gridcolor\":\"white\",\"linecolor\":\"white\",\"minorgridcolor\":\"white\",\"startlinecolor\":\"#2a3f5f\"},\"type\":\"carpet\"}],\"table\":[{\"cells\":{\"fill\":{\"color\":\"#EBF0F8\"},\"line\":{\"color\":\"white\"}},\"header\":{\"fill\":{\"color\":\"#C8D4E3\"},\"line\":{\"color\":\"white\"}},\"type\":\"table\"}],\"barpolar\":[{\"marker\":{\"line\":{\"color\":\"#E5ECF6\",\"width\":0.5},\"pattern\":{\"fillmode\":\"overlay\",\"size\":10,\"solidity\":0.2}},\"type\":\"barpolar\"}],\"pie\":[{\"automargin\":true,\"type\":\"pie\"}]},\"layout\":{\"autotypenumbers\":\"strict\",\"colorway\":[\"#636efa\",\"#EF553B\",\"#00cc96\",\"#ab63fa\",\"#FFA15A\",\"#19d3f3\",\"#FF6692\",\"#B6E880\",\"#FF97FF\",\"#FECB52\"],\"font\":{\"color\":\"#2a3f5f\"},\"hovermode\":\"closest\",\"hoverlabel\":{\"align\":\"left\"},\"paper_bgcolor\":\"white\",\"plot_bgcolor\":\"#E5ECF6\",\"polar\":{\"bgcolor\":\"#E5ECF6\",\"angularaxis\":{\"gridcolor\":\"white\",\"linecolor\":\"white\",\"ticks\":\"\"},\"radialaxis\":{\"gridcolor\":\"white\",\"linecolor\":\"white\",\"ticks\":\"\"}},\"ternary\":{\"bgcolor\":\"#E5ECF6\",\"aaxis\":{\"gridcolor\":\"white\",\"linecolor\":\"white\",\"ticks\":\"\"},\"baxis\":{\"gridcolor\":\"white\",\"linecolor\":\"white\",\"ticks\":\"\"},\"caxis\":{\"gridcolor\":\"white\",\"linecolor\":\"white\",\"ticks\":\"\"}},\"coloraxis\":{\"colorbar\":{\"outlinewidth\":0,\"ticks\":\"\"}},\"colorscale\":{\"sequential\":[[0.0,\"#0d0887\"],[0.1111111111111111,\"#46039f\"],[0.2222222222222222,\"#7201a8\"],[0.3333333333333333,\"#9c179e\"],[0.4444444444444444,\"#bd3786\"],[0.5555555555555556,\"#d8576b\"],[0.6666666666666666,\"#ed7953\"],[0.7777777777777778,\"#fb9f3a\"],[0.8888888888888888,\"#fdca26\"],[1.0,\"#f0f921\"]],\"sequentialminus\":[[0.0,\"#0d0887\"],[0.1111111111111111,\"#46039f\"],[0.2222222222222222,\"#7201a8\"],[0.3333333333333333,\"#9c179e\"],[0.4444444444444444,\"#bd3786\"],[0.5555555555555556,\"#d8576b\"],[0.6666666666666666,\"#ed7953\"],[0.7777777777777778,\"#fb9f3a\"],[0.8888888888888888,\"#fdca26\"],[1.0,\"#f0f921\"]],\"diverging\":[[0,\"#8e0152\"],[0.1,\"#c51b7d\"],[0.2,\"#de77ae\"],[0.3,\"#f1b6da\"],[0.4,\"#fde0ef\"],[0.5,\"#f7f7f7\"],[0.6,\"#e6f5d0\"],[0.7,\"#b8e186\"],[0.8,\"#7fbc41\"],[0.9,\"#4d9221\"],[1,\"#276419\"]]},\"xaxis\":{\"gridcolor\":\"white\",\"linecolor\":\"white\",\"ticks\":\"\",\"title\":{\"standoff\":15},\"zerolinecolor\":\"white\",\"automargin\":true,\"zerolinewidth\":2},\"yaxis\":{\"gridcolor\":\"white\",\"linecolor\":\"white\",\"ticks\":\"\",\"title\":{\"standoff\":15},\"zerolinecolor\":\"white\",\"automargin\":true,\"zerolinewidth\":2},\"scene\":{\"xaxis\":{\"backgroundcolor\":\"#E5ECF6\",\"gridcolor\":\"white\",\"linecolor\":\"white\",\"showbackground\":true,\"ticks\":\"\",\"zerolinecolor\":\"white\",\"gridwidth\":2},\"yaxis\":{\"backgroundcolor\":\"#E5ECF6\",\"gridcolor\":\"white\",\"linecolor\":\"white\",\"showbackground\":true,\"ticks\":\"\",\"zerolinecolor\":\"white\",\"gridwidth\":2},\"zaxis\":{\"backgroundcolor\":\"#E5ECF6\",\"gridcolor\":\"white\",\"linecolor\":\"white\",\"showbackground\":true,\"ticks\":\"\",\"zerolinecolor\":\"white\",\"gridwidth\":2}},\"shapedefaults\":{\"line\":{\"color\":\"#2a3f5f\"}},\"annotationdefaults\":{\"arrowcolor\":\"#2a3f5f\",\"arrowhead\":0,\"arrowwidth\":1},\"geo\":{\"bgcolor\":\"white\",\"landcolor\":\"#E5ECF6\",\"subunitcolor\":\"white\",\"showland\":true,\"showlakes\":true,\"lakecolor\":\"white\"},\"title\":{\"x\":0.05},\"mapbox\":{\"style\":\"light\"}}},\"geo\":{\"domain\":{\"x\":[0.0,1.0],\"y\":[0.0,1.0]},\"center\":{},\"scope\":\"europe\"},\"coloraxis\":{\"colorbar\":{\"title\":{\"text\":\"value\"}},\"colorscale\":[[0.0,\"#440154\"],[0.1111111111111111,\"#482878\"],[0.2222222222222222,\"#3e4989\"],[0.3333333333333333,\"#31688e\"],[0.4444444444444444,\"#26828e\"],[0.5555555555555556,\"#1f9e89\"],[0.6666666666666666,\"#35b779\"],[0.7777777777777778,\"#6ece58\"],[0.8888888888888888,\"#b5de2b\"],[1.0,\"#fde725\"]]},\"legend\":{\"tracegroupgap\":0},\"margin\":{\"t\":10,\"l\":10,\"r\":10,\"b\":10,\"pad\":1},\"updatemenus\":[{\"buttons\":[{\"args\":[null,{\"frame\":{\"duration\":500,\"redraw\":true},\"mode\":\"immediate\",\"fromcurrent\":true,\"transition\":{\"duration\":500,\"easing\":\"linear\"}}],\"label\":\"&#9654;\",\"method\":\"animate\"},{\"args\":[[null],{\"frame\":{\"duration\":0,\"redraw\":true},\"mode\":\"immediate\",\"fromcurrent\":true,\"transition\":{\"duration\":0,\"easing\":\"linear\"}}],\"label\":\"&#9724;\",\"method\":\"animate\"}],\"direction\":\"left\",\"pad\":{\"r\":10,\"t\":70},\"showactive\":false,\"type\":\"buttons\",\"x\":0.1,\"xanchor\":\"right\",\"y\":0,\"yanchor\":\"top\"}],\"sliders\":[{\"active\":0,\"currentvalue\":{\"prefix\":\"year=\"},\"len\":0.9,\"pad\":{\"b\":10,\"t\":60},\"steps\":[{\"args\":[[\"1990\"],{\"frame\":{\"duration\":0,\"redraw\":true},\"mode\":\"immediate\",\"fromcurrent\":true,\"transition\":{\"duration\":0,\"easing\":\"linear\"}}],\"label\":\"1990\",\"method\":\"animate\"},{\"args\":[[\"1991\"],{\"frame\":{\"duration\":0,\"redraw\":true},\"mode\":\"immediate\",\"fromcurrent\":true,\"transition\":{\"duration\":0,\"easing\":\"linear\"}}],\"label\":\"1991\",\"method\":\"animate\"},{\"args\":[[\"1992\"],{\"frame\":{\"duration\":0,\"redraw\":true},\"mode\":\"immediate\",\"fromcurrent\":true,\"transition\":{\"duration\":0,\"easing\":\"linear\"}}],\"label\":\"1992\",\"method\":\"animate\"},{\"args\":[[\"1993\"],{\"frame\":{\"duration\":0,\"redraw\":true},\"mode\":\"immediate\",\"fromcurrent\":true,\"transition\":{\"duration\":0,\"easing\":\"linear\"}}],\"label\":\"1993\",\"method\":\"animate\"},{\"args\":[[\"1994\"],{\"frame\":{\"duration\":0,\"redraw\":true},\"mode\":\"immediate\",\"fromcurrent\":true,\"transition\":{\"duration\":0,\"easing\":\"linear\"}}],\"label\":\"1994\",\"method\":\"animate\"},{\"args\":[[\"1995\"],{\"frame\":{\"duration\":0,\"redraw\":true},\"mode\":\"immediate\",\"fromcurrent\":true,\"transition\":{\"duration\":0,\"easing\":\"linear\"}}],\"label\":\"1995\",\"method\":\"animate\"},{\"args\":[[\"1996\"],{\"frame\":{\"duration\":0,\"redraw\":true},\"mode\":\"immediate\",\"fromcurrent\":true,\"transition\":{\"duration\":0,\"easing\":\"linear\"}}],\"label\":\"1996\",\"method\":\"animate\"},{\"args\":[[\"1997\"],{\"frame\":{\"duration\":0,\"redraw\":true},\"mode\":\"immediate\",\"fromcurrent\":true,\"transition\":{\"duration\":0,\"easing\":\"linear\"}}],\"label\":\"1997\",\"method\":\"animate\"},{\"args\":[[\"1998\"],{\"frame\":{\"duration\":0,\"redraw\":true},\"mode\":\"immediate\",\"fromcurrent\":true,\"transition\":{\"duration\":0,\"easing\":\"linear\"}}],\"label\":\"1998\",\"method\":\"animate\"},{\"args\":[[\"1999\"],{\"frame\":{\"duration\":0,\"redraw\":true},\"mode\":\"immediate\",\"fromcurrent\":true,\"transition\":{\"duration\":0,\"easing\":\"linear\"}}],\"label\":\"1999\",\"method\":\"animate\"},{\"args\":[[\"2000\"],{\"frame\":{\"duration\":0,\"redraw\":true},\"mode\":\"immediate\",\"fromcurrent\":true,\"transition\":{\"duration\":0,\"easing\":\"linear\"}}],\"label\":\"2000\",\"method\":\"animate\"},{\"args\":[[\"2001\"],{\"frame\":{\"duration\":0,\"redraw\":true},\"mode\":\"immediate\",\"fromcurrent\":true,\"transition\":{\"duration\":0,\"easing\":\"linear\"}}],\"label\":\"2001\",\"method\":\"animate\"},{\"args\":[[\"2002\"],{\"frame\":{\"duration\":0,\"redraw\":true},\"mode\":\"immediate\",\"fromcurrent\":true,\"transition\":{\"duration\":0,\"easing\":\"linear\"}}],\"label\":\"2002\",\"method\":\"animate\"},{\"args\":[[\"2003\"],{\"frame\":{\"duration\":0,\"redraw\":true},\"mode\":\"immediate\",\"fromcurrent\":true,\"transition\":{\"duration\":0,\"easing\":\"linear\"}}],\"label\":\"2003\",\"method\":\"animate\"},{\"args\":[[\"2004\"],{\"frame\":{\"duration\":0,\"redraw\":true},\"mode\":\"immediate\",\"fromcurrent\":true,\"transition\":{\"duration\":0,\"easing\":\"linear\"}}],\"label\":\"2004\",\"method\":\"animate\"},{\"args\":[[\"2005\"],{\"frame\":{\"duration\":0,\"redraw\":true},\"mode\":\"immediate\",\"fromcurrent\":true,\"transition\":{\"duration\":0,\"easing\":\"linear\"}}],\"label\":\"2005\",\"method\":\"animate\"},{\"args\":[[\"2006\"],{\"frame\":{\"duration\":0,\"redraw\":true},\"mode\":\"immediate\",\"fromcurrent\":true,\"transition\":{\"duration\":0,\"easing\":\"linear\"}}],\"label\":\"2006\",\"method\":\"animate\"},{\"args\":[[\"2007\"],{\"frame\":{\"duration\":0,\"redraw\":true},\"mode\":\"immediate\",\"fromcurrent\":true,\"transition\":{\"duration\":0,\"easing\":\"linear\"}}],\"label\":\"2007\",\"method\":\"animate\"},{\"args\":[[\"2008\"],{\"frame\":{\"duration\":0,\"redraw\":true},\"mode\":\"immediate\",\"fromcurrent\":true,\"transition\":{\"duration\":0,\"easing\":\"linear\"}}],\"label\":\"2008\",\"method\":\"animate\"},{\"args\":[[\"2009\"],{\"frame\":{\"duration\":0,\"redraw\":true},\"mode\":\"immediate\",\"fromcurrent\":true,\"transition\":{\"duration\":0,\"easing\":\"linear\"}}],\"label\":\"2009\",\"method\":\"animate\"},{\"args\":[[\"2010\"],{\"frame\":{\"duration\":0,\"redraw\":true},\"mode\":\"immediate\",\"fromcurrent\":true,\"transition\":{\"duration\":0,\"easing\":\"linear\"}}],\"label\":\"2010\",\"method\":\"animate\"},{\"args\":[[\"2011\"],{\"frame\":{\"duration\":0,\"redraw\":true},\"mode\":\"immediate\",\"fromcurrent\":true,\"transition\":{\"duration\":0,\"easing\":\"linear\"}}],\"label\":\"2011\",\"method\":\"animate\"},{\"args\":[[\"2012\"],{\"frame\":{\"duration\":0,\"redraw\":true},\"mode\":\"immediate\",\"fromcurrent\":true,\"transition\":{\"duration\":0,\"easing\":\"linear\"}}],\"label\":\"2012\",\"method\":\"animate\"},{\"args\":[[\"2013\"],{\"frame\":{\"duration\":0,\"redraw\":true},\"mode\":\"immediate\",\"fromcurrent\":true,\"transition\":{\"duration\":0,\"easing\":\"linear\"}}],\"label\":\"2013\",\"method\":\"animate\"},{\"args\":[[\"2014\"],{\"frame\":{\"duration\":0,\"redraw\":true},\"mode\":\"immediate\",\"fromcurrent\":true,\"transition\":{\"duration\":0,\"easing\":\"linear\"}}],\"label\":\"2014\",\"method\":\"animate\"},{\"args\":[[\"2015\"],{\"frame\":{\"duration\":0,\"redraw\":true},\"mode\":\"immediate\",\"fromcurrent\":true,\"transition\":{\"duration\":0,\"easing\":\"linear\"}}],\"label\":\"2015\",\"method\":\"animate\"},{\"args\":[[\"2016\"],{\"frame\":{\"duration\":0,\"redraw\":true},\"mode\":\"immediate\",\"fromcurrent\":true,\"transition\":{\"duration\":0,\"easing\":\"linear\"}}],\"label\":\"2016\",\"method\":\"animate\"},{\"args\":[[\"2017\"],{\"frame\":{\"duration\":0,\"redraw\":true},\"mode\":\"immediate\",\"fromcurrent\":true,\"transition\":{\"duration\":0,\"easing\":\"linear\"}}],\"label\":\"2017\",\"method\":\"animate\"},{\"args\":[[\"2018\"],{\"frame\":{\"duration\":0,\"redraw\":true},\"mode\":\"immediate\",\"fromcurrent\":true,\"transition\":{\"duration\":0,\"easing\":\"linear\"}}],\"label\":\"2018\",\"method\":\"animate\"},{\"args\":[[\"2019\"],{\"frame\":{\"duration\":0,\"redraw\":true},\"mode\":\"immediate\",\"fromcurrent\":true,\"transition\":{\"duration\":0,\"easing\":\"linear\"}}],\"label\":\"2019\",\"method\":\"animate\"},{\"args\":[[\"2020\"],{\"frame\":{\"duration\":0,\"redraw\":true},\"mode\":\"immediate\",\"fromcurrent\":true,\"transition\":{\"duration\":0,\"easing\":\"linear\"}}],\"label\":\"2020\",\"method\":\"animate\"}],\"x\":0.1,\"xanchor\":\"left\",\"y\":0,\"yanchor\":\"top\"}],\"autosize\":true,\"width\":700,\"height\":500},                        {\"responsive\": true}                    ).then(function(){\n",
       "                            Plotly.addFrames('3b147a90-d402-433f-afef-b2547f6d6c39', [{\"data\":[{\"coloraxis\":\"coloraxis\",\"geo\":\"geo\",\"hovertemplate\":\"year=1990<br>country Name=%{location}<br>value=%{z}<extra></extra>\",\"locationmode\":\"country names\",\"locations\":[\"Belgium\",\"Bulgaria\",\"Czechia\",\"Denmark\",\"Germany\",\"Estonia\",\"Ireland\",\"Greece\",\"Spain\",\"France\",\"Croatia\",\"Italy\",\"Cyprus\",\"Latvia\",\"Lithuania\",\"Luxembourg\",\"Hungary\",\"Malta\",\"Netherlands\",\"Austria\",\"Poland\",\"Portugal\",\"Romania\",\"Slovenia\",\"Slovakia\",\"Finland\",\"Sweden\",\"Iceland\",\"Liechtenstein\",\"Norway\",\"United Kingdom\",\"Montenegro\",\"North Macedonia\",\"Albania\",\"Serbia\",\"T\\u00fcrkiye\",\"Bosnia and Herzegovina\",\"Kosovo (under United Nations Security Council Resolution 1244/99)\",\"Moldova\",\"Ukraine\",\"Georgia\"],\"name\":\"\",\"z\":[0.0,60.0,50.0,5994.0,3648.0,0.0,0.0,773.0,795.0,3024.0,2497.0,4641.0,0.0,0.0,12.0,0.0,1915.0,0.0,3533.0,1149.0,160.0,0.0,7929.0,3.0,73.0,0.0,3.0,0.0,0.0,79663.0,87990.0,0.0,0.0,1067.0,1063.0,3712.0,0.0,0.0,0.0,4092.0,0.0],\"type\":\"choropleth\"}],\"name\":\"1990\"},{\"data\":[{\"coloraxis\":\"coloraxis\",\"geo\":\"geo\",\"hovertemplate\":\"year=1991<br>country Name=%{location}<br>value=%{z}<extra></extra>\",\"locationmode\":\"country names\",\"locations\":[\"Belgium\",\"Bulgaria\",\"Czechia\",\"Denmark\",\"Germany\",\"Estonia\",\"Ireland\",\"Greece\",\"Spain\",\"France\",\"Croatia\",\"Italy\",\"Cyprus\",\"Latvia\",\"Lithuania\",\"Luxembourg\",\"Hungary\",\"Malta\",\"Netherlands\",\"Austria\",\"Poland\",\"Portugal\",\"Romania\",\"Slovenia\",\"Slovakia\",\"Finland\",\"Sweden\",\"Iceland\",\"Liechtenstein\",\"Norway\",\"United Kingdom\",\"Montenegro\",\"North Macedonia\",\"Albania\",\"Serbia\",\"T\\u00fcrkiye\",\"Bosnia and Herzegovina\",\"Kosovo (under United Nations Security Council Resolution 1244/99)\",\"Moldova\",\"Ukraine\",\"Georgia\"],\"name\":\"\",\"z\":[0.0,58.0,69.0,6993.0,3405.0,0.0,0.0,789.0,1067.0,2952.0,2177.0,4307.0,0.0,0.0,33.0,0.0,1841.0,0.0,3258.0,1280.0,158.0,0.0,6791.0,2.0,72.0,0.0,2.0,0.0,0.0,91383.0,86831.0,0.0,0.0,845.0,1100.0,4364.0,0.0,0.0,0.0,3945.0,0.0],\"type\":\"choropleth\"}],\"name\":\"1991\"},{\"data\":[{\"coloraxis\":\"coloraxis\",\"geo\":\"geo\",\"hovertemplate\":\"year=1992<br>country Name=%{location}<br>value=%{z}<extra></extra>\",\"locationmode\":\"country names\",\"locations\":[\"Belgium\",\"Bulgaria\",\"Czechia\",\"Denmark\",\"Germany\",\"Estonia\",\"Ireland\",\"Greece\",\"Spain\",\"France\",\"Croatia\",\"Italy\",\"Cyprus\",\"Latvia\",\"Lithuania\",\"Luxembourg\",\"Hungary\",\"Malta\",\"Netherlands\",\"Austria\",\"Poland\",\"Portugal\",\"Romania\",\"Slovenia\",\"Slovakia\",\"Finland\",\"Sweden\",\"Iceland\",\"Liechtenstein\",\"Norway\",\"United Kingdom\",\"Montenegro\",\"North Macedonia\",\"Albania\",\"Serbia\",\"T\\u00fcrkiye\",\"Bosnia and Herzegovina\",\"Kosovo (under United Nations Security Council Resolution 1244/99)\",\"Moldova\",\"Ukraine\",\"Georgia\"],\"name\":\"\",\"z\":[0.0,53.0,82.0,7756.0,3279.0,0.0,0.0,653.0,1073.0,2866.0,1917.0,4479.0,0.0,0.0,63.0,0.0,1769.0,0.0,2845.0,1180.0,200.0,0.0,6615.0,2.0,73.0,0.0,1.0,0.0,0.0,104488.0,89179.0,0.0,0.0,585.0,1165.0,4276.0,0.0,0.0,0.0,3617.0,0.0],\"type\":\"choropleth\"}],\"name\":\"1992\"},{\"data\":[{\"coloraxis\":\"coloraxis\",\"geo\":\"geo\",\"hovertemplate\":\"year=1993<br>country Name=%{location}<br>value=%{z}<extra></extra>\",\"locationmode\":\"country names\",\"locations\":[\"Belgium\",\"Bulgaria\",\"Czechia\",\"Denmark\",\"Germany\",\"Estonia\",\"Ireland\",\"Greece\",\"Spain\",\"France\",\"Croatia\",\"Italy\",\"Cyprus\",\"Latvia\",\"Lithuania\",\"Luxembourg\",\"Hungary\",\"Malta\",\"Netherlands\",\"Austria\",\"Poland\",\"Portugal\",\"Romania\",\"Slovenia\",\"Slovakia\",\"Finland\",\"Sweden\",\"Iceland\",\"Liechtenstein\",\"Norway\",\"United Kingdom\",\"Montenegro\",\"North Macedonia\",\"Albania\",\"Serbia\",\"T\\u00fcrkiye\",\"Bosnia and Herzegovina\",\"Kosovo (under United Nations Security Council Resolution 1244/99)\",\"Moldova\",\"Ukraine\",\"Georgia\"],\"name\":\"\",\"z\":[0.0,43.0,111.0,8265.0,3064.0,0.0,0.0,537.0,874.0,2752.0,1895.0,4620.0,0.0,0.0,73.0,0.0,1654.0,0.0,2672.0,1154.0,235.0,0.0,6713.0,2.0,67.0,0.0,0.0,0.0,0.0,111854.0,93950.0,0.0,0.0,568.0,1148.0,3892.0,0.0,0.0,0.0,3335.0,0.0],\"type\":\"choropleth\"}],\"name\":\"1993\"},{\"data\":[{\"coloraxis\":\"coloraxis\",\"geo\":\"geo\",\"hovertemplate\":\"year=1994<br>country Name=%{location}<br>value=%{z}<extra></extra>\",\"locationmode\":\"country names\",\"locations\":[\"Belgium\",\"Bulgaria\",\"Czechia\",\"Denmark\",\"Germany\",\"Estonia\",\"Ireland\",\"Greece\",\"Spain\",\"France\",\"Croatia\",\"Italy\",\"Cyprus\",\"Latvia\",\"Lithuania\",\"Luxembourg\",\"Hungary\",\"Malta\",\"Netherlands\",\"Austria\",\"Poland\",\"Portugal\",\"Romania\",\"Slovenia\",\"Slovakia\",\"Finland\",\"Sweden\",\"Iceland\",\"Liechtenstein\",\"Norway\",\"United Kingdom\",\"Montenegro\",\"North Macedonia\",\"Albania\",\"Serbia\",\"T\\u00fcrkiye\",\"Bosnia and Herzegovina\",\"Kosovo (under United Nations Security Council Resolution 1244/99)\",\"Moldova\",\"Ukraine\",\"Georgia\"],\"name\":\"\",\"z\":[0.0,36.0,128.0,9118.0,2938.0,0.0,0.0,500.0,807.0,2769.0,1577.0,4877.0,0.0,0.0,93.0,0.0,1575.0,0.0,3437.0,1099.0,284.0,0.0,6737.0,2.0,67.0,0.0,5.0,0.0,0.0,125043.0,119032.0,0.0,0.0,535.0,1030.0,3696.0,0.0,0.0,0.0,3155.0,0.0],\"type\":\"choropleth\"}],\"name\":\"1994\"},{\"data\":[{\"coloraxis\":\"coloraxis\",\"geo\":\"geo\",\"hovertemplate\":\"year=1995<br>country Name=%{location}<br>value=%{z}<extra></extra>\",\"locationmode\":\"country names\",\"locations\":[\"Belgium\",\"Bulgaria\",\"Czechia\",\"Denmark\",\"Germany\",\"Estonia\",\"Ireland\",\"Greece\",\"Spain\",\"France\",\"Croatia\",\"Italy\",\"Cyprus\",\"Latvia\",\"Lithuania\",\"Luxembourg\",\"Hungary\",\"Malta\",\"Netherlands\",\"Austria\",\"Poland\",\"Portugal\",\"Romania\",\"Slovenia\",\"Slovakia\",\"Finland\",\"Sweden\",\"Iceland\",\"Liechtenstein\",\"Norway\",\"United Kingdom\",\"Montenegro\",\"North Macedonia\",\"Albania\",\"Serbia\",\"T\\u00fcrkiye\",\"Bosnia and Herzegovina\",\"Kosovo (under United Nations Security Council Resolution 1244/99)\",\"Moldova\",\"Ukraine\",\"Georgia\"],\"name\":\"\",\"z\":[0.0,43.0,146.0,9170.0,2926.0,0.0,0.0,435.0,652.0,2503.0,1500.0,5208.0,0.0,0.0,128.0,0.0,1668.0,0.0,2721.0,1035.0,292.0,0.0,6717.0,2.0,74.0,0.0,4.0,0.0,0.0,134617.0,121794.0,0.0,0.0,521.0,1067.0,3516.0,0.0,0.0,0.0,2993.0,0.0],\"type\":\"choropleth\"}],\"name\":\"1995\"},{\"data\":[{\"coloraxis\":\"coloraxis\",\"geo\":\"geo\",\"hovertemplate\":\"year=1996<br>country Name=%{location}<br>value=%{z}<extra></extra>\",\"locationmode\":\"country names\",\"locations\":[\"Belgium\",\"Bulgaria\",\"Czechia\",\"Denmark\",\"Germany\",\"Estonia\",\"Ireland\",\"Greece\",\"Spain\",\"France\",\"Croatia\",\"Italy\",\"Cyprus\",\"Latvia\",\"Lithuania\",\"Luxembourg\",\"Hungary\",\"Malta\",\"Netherlands\",\"Austria\",\"Poland\",\"Portugal\",\"Romania\",\"Slovenia\",\"Slovakia\",\"Finland\",\"Sweden\",\"Iceland\",\"Liechtenstein\",\"Norway\",\"United Kingdom\",\"Montenegro\",\"North Macedonia\",\"Albania\",\"Serbia\",\"T\\u00fcrkiye\",\"Bosnia and Herzegovina\",\"Kosovo (under United Nations Security Council Resolution 1244/99)\",\"Moldova\",\"Ukraine\",\"Georgia\"],\"name\":\"\",\"z\":[0.0,32.0,152.0,10122.0,2874.0,0.0,0.0,483.0,512.0,2107.0,1469.0,5430.0,0.0,0.0,155.0,0.0,1477.0,0.0,2221.0,992.0,317.0,0.0,6626.0,1.0,71.0,0.0,0.0,0.0,0.0,152752.0,121930.0,0.0,0.0,489.0,1023.0,3500.0,0.0,0.0,0.0,2951.0,0.0],\"type\":\"choropleth\"}],\"name\":\"1996\"},{\"data\":[{\"coloraxis\":\"coloraxis\",\"geo\":\"geo\",\"hovertemplate\":\"year=1997<br>country Name=%{location}<br>value=%{z}<extra></extra>\",\"locationmode\":\"country names\",\"locations\":[\"Belgium\",\"Bulgaria\",\"Czechia\",\"Denmark\",\"Germany\",\"Estonia\",\"Ireland\",\"Greece\",\"Spain\",\"France\",\"Croatia\",\"Italy\",\"Cyprus\",\"Latvia\",\"Lithuania\",\"Luxembourg\",\"Hungary\",\"Malta\",\"Netherlands\",\"Austria\",\"Poland\",\"Portugal\",\"Romania\",\"Slovenia\",\"Slovakia\",\"Finland\",\"Sweden\",\"Iceland\",\"Liechtenstein\",\"Norway\",\"United Kingdom\",\"Montenegro\",\"North Macedonia\",\"Albania\",\"Serbia\",\"T\\u00fcrkiye\",\"Bosnia and Herzegovina\",\"Kosovo (under United Nations Security Council Resolution 1244/99)\",\"Moldova\",\"Ukraine\",\"Georgia\"],\"name\":\"\",\"z\":[0.0,28.0,163.0,11145.0,2804.0,0.0,0.0,436.0,371.0,1780.0,1533.0,5926.0,0.0,0.0,212.0,0.0,1360.0,0.0,2069.0,972.0,289.0,0.0,6517.0,1.0,64.0,0.0,0.0,0.0,0.0,152491.0,120321.0,0.0,0.0,360.0,984.0,3449.0,0.0,0.0,0.0,2885.0,0.0],\"type\":\"choropleth\"}],\"name\":\"1997\"},{\"data\":[{\"coloraxis\":\"coloraxis\",\"geo\":\"geo\",\"hovertemplate\":\"year=1998<br>country Name=%{location}<br>value=%{z}<extra></extra>\",\"locationmode\":\"country names\",\"locations\":[\"Belgium\",\"Bulgaria\",\"Czechia\",\"Denmark\",\"Germany\",\"Estonia\",\"Ireland\",\"Greece\",\"Spain\",\"France\",\"Croatia\",\"Italy\",\"Cyprus\",\"Latvia\",\"Lithuania\",\"Luxembourg\",\"Hungary\",\"Malta\",\"Netherlands\",\"Austria\",\"Poland\",\"Portugal\",\"Romania\",\"Slovenia\",\"Slovakia\",\"Finland\",\"Sweden\",\"Iceland\",\"Liechtenstein\",\"Norway\",\"United Kingdom\",\"Montenegro\",\"North Macedonia\",\"Albania\",\"Serbia\",\"T\\u00fcrkiye\",\"Bosnia and Herzegovina\",\"Kosovo (under United Nations Security Council Resolution 1244/99)\",\"Moldova\",\"Ukraine\",\"Georgia\"],\"name\":\"\",\"z\":[0.0,33.0,179.0,11432.0,2934.0,0.0,0.0,293.0,529.0,1709.0,1589.0,5600.0,0.0,0.0,277.0,0.0,1260.0,0.0,1715.0,959.0,360.0,0.0,6309.0,1.0,60.0,0.0,0.0,0.0,0.0,146166.0,124222.0,0.0,0.0,365.0,919.0,3223.0,0.0,0.0,0.0,2699.0,0.0],\"type\":\"choropleth\"}],\"name\":\"1998\"},{\"data\":[{\"coloraxis\":\"coloraxis\",\"geo\":\"geo\",\"hovertemplate\":\"year=1999<br>country Name=%{location}<br>value=%{z}<extra></extra>\",\"locationmode\":\"country names\",\"locations\":[\"Belgium\",\"Bulgaria\",\"Czechia\",\"Denmark\",\"Germany\",\"Estonia\",\"Ireland\",\"Greece\",\"Spain\",\"France\",\"Croatia\",\"Italy\",\"Cyprus\",\"Latvia\",\"Lithuania\",\"Luxembourg\",\"Hungary\",\"Malta\",\"Netherlands\",\"Austria\",\"Poland\",\"Portugal\",\"Romania\",\"Slovenia\",\"Slovakia\",\"Finland\",\"Sweden\",\"Iceland\",\"Liechtenstein\",\"Norway\",\"United Kingdom\",\"Montenegro\",\"North Macedonia\",\"Albania\",\"Serbia\",\"T\\u00fcrkiye\",\"Bosnia and Herzegovina\",\"Kosovo (under United Nations Security Council Resolution 1244/99)\",\"Moldova\",\"Ukraine\",\"Georgia\"],\"name\":\"\",\"z\":[0.0,40.0,183.0,14465.0,2746.0,0.0,0.0,15.0,299.0,1539.0,1176.0,4998.0,0.0,0.0,232.0,0.0,1243.0,0.0,1594.0,1002.0,434.0,0.0,6140.0,1.0,66.0,0.0,0.0,0.0,0.0,145843.0,128262.0,0.0,0.0,328.0,965.0,2941.0,0.0,0.0,0.0,2670.0,0.0],\"type\":\"choropleth\"}],\"name\":\"1999\"},{\"data\":[{\"coloraxis\":\"coloraxis\",\"geo\":\"geo\",\"hovertemplate\":\"year=2000<br>country Name=%{location}<br>value=%{z}<extra></extra>\",\"locationmode\":\"country names\",\"locations\":[\"Belgium\",\"Bulgaria\",\"Czechia\",\"Denmark\",\"Germany\",\"Estonia\",\"Ireland\",\"Greece\",\"Spain\",\"France\",\"Croatia\",\"Italy\",\"Cyprus\",\"Latvia\",\"Lithuania\",\"Luxembourg\",\"Hungary\",\"Malta\",\"Netherlands\",\"Austria\",\"Poland\",\"Portugal\",\"Romania\",\"Slovenia\",\"Slovakia\",\"Finland\",\"Sweden\",\"Iceland\",\"Liechtenstein\",\"Norway\",\"United Kingdom\",\"Montenegro\",\"North Macedonia\",\"Albania\",\"Serbia\",\"T\\u00fcrkiye\",\"Bosnia and Herzegovina\",\"Kosovo (under United Nations Security Council Resolution 1244/99)\",\"Moldova\",\"Ukraine\",\"Georgia\"],\"name\":\"\",\"z\":[0.0,42.0,175.0,17780.0,3166.0,0.0,0.0,256.0,227.0,1417.0,1113.0,4555.0,0.0,0.0,316.0,0.0,1136.0,0.0,1443.0,971.0,653.0,0.0,6042.0,1.0,59.0,0.0,0.0,0.0,0.0,157522.0,117882.0,0.0,0.0,314.0,978.0,2762.0,0.0,0.0,0.0,2626.0,0.0],\"type\":\"choropleth\"}],\"name\":\"2000\"},{\"data\":[{\"coloraxis\":\"coloraxis\",\"geo\":\"geo\",\"hovertemplate\":\"year=2001<br>country Name=%{location}<br>value=%{z}<extra></extra>\",\"locationmode\":\"country names\",\"locations\":[\"Belgium\",\"Bulgaria\",\"Czechia\",\"Denmark\",\"Germany\",\"Estonia\",\"Ireland\",\"Greece\",\"Spain\",\"France\",\"Croatia\",\"Italy\",\"Cyprus\",\"Latvia\",\"Lithuania\",\"Luxembourg\",\"Hungary\",\"Malta\",\"Netherlands\",\"Austria\",\"Poland\",\"Portugal\",\"Romania\",\"Slovenia\",\"Slovakia\",\"Finland\",\"Sweden\",\"Iceland\",\"Liechtenstein\",\"Norway\",\"United Kingdom\",\"Montenegro\",\"North Macedonia\",\"Albania\",\"Serbia\",\"T\\u00fcrkiye\",\"Bosnia and Herzegovina\",\"Kosovo (under United Nations Security Council Resolution 1244/99)\",\"Moldova\",\"Ukraine\",\"Georgia\"],\"name\":\"\",\"z\":[0.0,34.0,183.0,16887.0,3278.0,0.0,0.0,171.0,338.0,1382.0,1042.0,4066.0,0.0,0.0,471.0,0.0,1065.0,0.0,1370.0,957.0,767.0,0.0,6011.0,0.0,46.0,0.0,0.0,0.0,0.0,157551.0,108387.0,0.0,0.0,308.0,899.0,2520.0,0.0,0.0,0.0,2617.0,0.0],\"type\":\"choropleth\"}],\"name\":\"2001\"},{\"data\":[{\"coloraxis\":\"coloraxis\",\"geo\":\"geo\",\"hovertemplate\":\"year=2002<br>country Name=%{location}<br>value=%{z}<extra></extra>\",\"locationmode\":\"country names\",\"locations\":[\"Belgium\",\"Bulgaria\",\"Czechia\",\"Denmark\",\"Germany\",\"Estonia\",\"Ireland\",\"Greece\",\"Spain\",\"France\",\"Croatia\",\"Italy\",\"Cyprus\",\"Latvia\",\"Lithuania\",\"Luxembourg\",\"Hungary\",\"Malta\",\"Netherlands\",\"Austria\",\"Poland\",\"Portugal\",\"Romania\",\"Slovenia\",\"Slovakia\",\"Finland\",\"Sweden\",\"Iceland\",\"Liechtenstein\",\"Norway\",\"United Kingdom\",\"Montenegro\",\"North Macedonia\",\"Albania\",\"Serbia\",\"T\\u00fcrkiye\",\"Bosnia and Herzegovina\",\"Kosovo (under United Nations Security Council Resolution 1244/99)\",\"Moldova\",\"Ukraine\",\"Georgia\"],\"name\":\"\",\"z\":[0.0,37.0,265.0,18143.0,3509.0,0.0,0.0,165.0,316.0,1317.0,1015.0,5535.0,0.0,0.0,434.0,0.0,1050.0,0.0,2232.0,948.0,728.0,0.0,5810.0,1.0,44.0,0.0,0.0,0.0,0.0,151681.0,107430.0,0.0,0.0,371.0,812.0,2420.0,0.0,0.0,0.0,2625.0,0.0],\"type\":\"choropleth\"}],\"name\":\"2002\"},{\"data\":[{\"coloraxis\":\"coloraxis\",\"geo\":\"geo\",\"hovertemplate\":\"year=2003<br>country Name=%{location}<br>value=%{z}<extra></extra>\",\"locationmode\":\"country names\",\"locations\":[\"Belgium\",\"Bulgaria\",\"Czechia\",\"Denmark\",\"Germany\",\"Estonia\",\"Ireland\",\"Greece\",\"Spain\",\"France\",\"Croatia\",\"Italy\",\"Cyprus\",\"Latvia\",\"Lithuania\",\"Luxembourg\",\"Hungary\",\"Malta\",\"Netherlands\",\"Austria\",\"Poland\",\"Portugal\",\"Romania\",\"Slovenia\",\"Slovakia\",\"Finland\",\"Sweden\",\"Iceland\",\"Liechtenstein\",\"Norway\",\"United Kingdom\",\"Montenegro\",\"North Macedonia\",\"Albania\",\"Serbia\",\"T\\u00fcrkiye\",\"Bosnia and Herzegovina\",\"Kosovo (under United Nations Security Council Resolution 1244/99)\",\"Moldova\",\"Ukraine\",\"Georgia\"],\"name\":\"\",\"z\":[0.0,30.0,317.0,18143.0,3690.0,0.0,0.0,120.0,322.0,1219.0,959.0,5570.0,0.0,0.0,382.0,0.0,1134.0,0.0,2304.0,919.0,765.0,0.0,5651.0,0.0,42.0,0.0,0.0,0.0,0.0,147011.0,97835.0,0.0,0.0,360.0,773.0,2351.0,0.0,0.0,0.0,2814.0,0.0],\"type\":\"choropleth\"}],\"name\":\"2003\"},{\"data\":[{\"coloraxis\":\"coloraxis\",\"geo\":\"geo\",\"hovertemplate\":\"year=2004<br>country Name=%{location}<br>value=%{z}<extra></extra>\",\"locationmode\":\"country names\",\"locations\":[\"Belgium\",\"Bulgaria\",\"Czechia\",\"Denmark\",\"Germany\",\"Estonia\",\"Ireland\",\"Greece\",\"Spain\",\"France\",\"Croatia\",\"Italy\",\"Cyprus\",\"Latvia\",\"Lithuania\",\"Luxembourg\",\"Hungary\",\"Malta\",\"Netherlands\",\"Austria\",\"Poland\",\"Portugal\",\"Romania\",\"Slovenia\",\"Slovakia\",\"Finland\",\"Sweden\",\"Iceland\",\"Liechtenstein\",\"Norway\",\"United Kingdom\",\"Montenegro\",\"North Macedonia\",\"Albania\",\"Serbia\",\"T\\u00fcrkiye\",\"Bosnia and Herzegovina\",\"Kosovo (under United Nations Security Council Resolution 1244/99)\",\"Moldova\",\"Ukraine\",\"Georgia\"],\"name\":\"\",\"z\":[0.0,30.0,306.0,19262.0,3463.0,0.0,0.0,118.0,255.0,1138.0,890.0,5445.0,0.0,0.0,302.0,0.0,1077.0,0.0,2106.0,971.0,886.0,0.0,5462.0,0.0,38.0,0.0,0.0,0.0,0.0,144371.0,87516.0,0.0,0.0,443.0,652.0,2251.0,0.0,0.0,0.0,3003.0,0.0],\"type\":\"choropleth\"}],\"name\":\"2004\"},{\"data\":[{\"coloraxis\":\"coloraxis\",\"geo\":\"geo\",\"hovertemplate\":\"year=2005<br>country Name=%{location}<br>value=%{z}<extra></extra>\",\"locationmode\":\"country names\",\"locations\":[\"Belgium\",\"Bulgaria\",\"Czechia\",\"Denmark\",\"Germany\",\"Estonia\",\"Ireland\",\"Greece\",\"Spain\",\"France\",\"Croatia\",\"Italy\",\"Cyprus\",\"Latvia\",\"Lithuania\",\"Luxembourg\",\"Hungary\",\"Malta\",\"Netherlands\",\"Austria\",\"Poland\",\"Portugal\",\"Romania\",\"Slovenia\",\"Slovakia\",\"Finland\",\"Sweden\",\"Iceland\",\"Liechtenstein\",\"Norway\",\"United Kingdom\",\"Montenegro\",\"North Macedonia\",\"Albania\",\"Serbia\",\"T\\u00fcrkiye\",\"Bosnia and Herzegovina\",\"Kosovo (under United Nations Security Council Resolution 1244/99)\",\"Moldova\",\"Ukraine\",\"Georgia\"],\"name\":\"\",\"z\":[0.0,30.0,313.0,18517.0,3471.0,0.0,0.0,89.0,166.0,1079.0,830.0,6111.0,0.0,0.0,216.0,0.0,948.0,0.0,1492.0,854.775,848.0,0.0,5215.0,0.0,31.0,0.0,0.0,0.0,0.0,131942.0,77179.0,0.0,0.0,418.0,649.0,2258.0,0.0,0.0,0.0,3149.0,0.0],\"type\":\"choropleth\"}],\"name\":\"2005\"},{\"data\":[{\"coloraxis\":\"coloraxis\",\"geo\":\"geo\",\"hovertemplate\":\"year=2006<br>country Name=%{location}<br>value=%{z}<extra></extra>\",\"locationmode\":\"country names\",\"locations\":[\"Belgium\",\"Bulgaria\",\"Czechia\",\"Denmark\",\"Germany\",\"Estonia\",\"Ireland\",\"Greece\",\"Spain\",\"France\",\"Croatia\",\"Italy\",\"Cyprus\",\"Latvia\",\"Lithuania\",\"Luxembourg\",\"Hungary\",\"Malta\",\"Netherlands\",\"Austria\",\"Poland\",\"Portugal\",\"Romania\",\"Slovenia\",\"Slovakia\",\"Finland\",\"Sweden\",\"Iceland\",\"Liechtenstein\",\"Norway\",\"United Kingdom\",\"Montenegro\",\"North Macedonia\",\"Albania\",\"Serbia\",\"T\\u00fcrkiye\",\"Bosnia and Herzegovina\",\"Kosovo (under United Nations Security Council Resolution 1244/99)\",\"Moldova\",\"Ukraine\",\"Georgia\"],\"name\":\"\",\"z\":[0.0,28.0,265.0,16839.0,3383.0,0.0,0.0,83.0,139.0,1055.0,807.0,5769.0,0.0,0.0,181.0,0.0,886.0,0.0,1348.0,863.319,796.0,0.0,4777.0,0.0,28.0,0.0,0.0,0.0,0.0,121964.0,69665.0,0.0,0.0,500.0,646.0,2160.0,0.0,0.0,0.0,3341.0,0.0],\"type\":\"choropleth\"}],\"name\":\"2006\"},{\"data\":[{\"coloraxis\":\"coloraxis\",\"geo\":\"geo\",\"hovertemplate\":\"year=2007<br>country Name=%{location}<br>value=%{z}<extra></extra>\",\"locationmode\":\"country names\",\"locations\":[\"Belgium\",\"Bulgaria\",\"Czechia\",\"Denmark\",\"Germany\",\"Estonia\",\"Ireland\",\"Greece\",\"Spain\",\"France\",\"Croatia\",\"Italy\",\"Cyprus\",\"Latvia\",\"Lithuania\",\"Luxembourg\",\"Hungary\",\"Malta\",\"Netherlands\",\"Austria\",\"Poland\",\"Portugal\",\"Romania\",\"Slovenia\",\"Slovakia\",\"Finland\",\"Sweden\",\"Iceland\",\"Liechtenstein\",\"Norway\",\"United Kingdom\",\"Montenegro\",\"North Macedonia\",\"Albania\",\"Serbia\",\"T\\u00fcrkiye\",\"Bosnia and Herzegovina\",\"Kosovo (under United Nations Security Council Resolution 1244/99)\",\"Moldova\",\"Ukraine\",\"Georgia\"],\"name\":\"\",\"z\":[0.0,26.0,246.0,15169.0,3361.0,0.0,0.0,74.0,142.0,974.0,768.0,5860.0,0.0,0.0,154.0,0.0,839.0,0.0,2068.0,800.341,721.0,0.0,4542.0,0.0,22.0,0.0,0.0,0.0,0.0,110658.0,70357.0,0.0,0.0,564.0,641.0,2134.0,0.0,0.0,0.0,3310.0,0.0],\"type\":\"choropleth\"}],\"name\":\"2007\"},{\"data\":[{\"coloraxis\":\"coloraxis\",\"geo\":\"geo\",\"hovertemplate\":\"year=2008<br>country Name=%{location}<br>value=%{z}<extra></extra>\",\"locationmode\":\"country names\",\"locations\":[\"Belgium\",\"Bulgaria\",\"Czechia\",\"Denmark\",\"Germany\",\"Estonia\",\"Ireland\",\"Greece\",\"Spain\",\"France\",\"Croatia\",\"Italy\",\"Cyprus\",\"Latvia\",\"Lithuania\",\"Luxembourg\",\"Hungary\",\"Malta\",\"Netherlands\",\"Austria\",\"Poland\",\"Portugal\",\"Romania\",\"Slovenia\",\"Slovakia\",\"Finland\",\"Sweden\",\"Iceland\",\"Liechtenstein\",\"Norway\",\"United Kingdom\",\"Montenegro\",\"North Macedonia\",\"Albania\",\"Serbia\",\"T\\u00fcrkiye\",\"Bosnia and Herzegovina\",\"Kosovo (under United Nations Security Council Resolution 1244/99)\",\"Moldova\",\"Ukraine\",\"Georgia\"],\"name\":\"\",\"z\":[0.0,24.0,242.0,14035.0,3024.0,0.0,0.0,59.0,127.0,975.0,717.0,5220.0,0.0,0.0,128.0,0.0,811.0,0.0,1731.0,906.137,755.0,0.0,4542.0,0.0,18.0,0.0,0.0,0.0,0.0,106036.0,65497.0,0.0,0.0,578.0,639.0,2160.0,0.0,0.0,0.0,3184.0,0.0],\"type\":\"choropleth\"}],\"name\":\"2008\"},{\"data\":[{\"coloraxis\":\"coloraxis\",\"geo\":\"geo\",\"hovertemplate\":\"year=2009<br>country Name=%{location}<br>value=%{z}<extra></extra>\",\"locationmode\":\"country names\",\"locations\":[\"Belgium\",\"Bulgaria\",\"Czechia\",\"Denmark\",\"Germany\",\"Estonia\",\"Ireland\",\"Greece\",\"Spain\",\"France\",\"Croatia\",\"Italy\",\"Cyprus\",\"Latvia\",\"Lithuania\",\"Luxembourg\",\"Hungary\",\"Malta\",\"Netherlands\",\"Austria\",\"Poland\",\"Portugal\",\"Romania\",\"Slovenia\",\"Slovakia\",\"Finland\",\"Sweden\",\"Iceland\",\"Liechtenstein\",\"Norway\",\"United Kingdom\",\"Montenegro\",\"North Macedonia\",\"Albania\",\"Serbia\",\"T\\u00fcrkiye\",\"Bosnia and Herzegovina\",\"Kosovo (under United Nations Security Council Resolution 1244/99)\",\"Moldova\",\"Ukraine\",\"Georgia\"],\"name\":\"\",\"z\":[0.0,25.0,222.0,12903.0,2768.0,0.0,0.0,80.0,105.0,899.0,667.0,4551.0,0.0,0.0,115.0,0.0,791.0,0.0,1312.0,943.889,687.0,0.0,4386.0,0.0,15.0,0.0,0.0,0.0,0.0,100892.0,62820.0,0.0,0.0,577.0,663.0,2402.0,0.0,0.0,0.0,2904.0,0.0],\"type\":\"choropleth\"}],\"name\":\"2009\"},{\"data\":[{\"coloraxis\":\"coloraxis\",\"geo\":\"geo\",\"hovertemplate\":\"year=2010<br>country Name=%{location}<br>value=%{z}<extra></extra>\",\"locationmode\":\"country names\",\"locations\":[\"Belgium\",\"Bulgaria\",\"Czechia\",\"Denmark\",\"Germany\",\"Estonia\",\"Ireland\",\"Greece\",\"Spain\",\"France\",\"Croatia\",\"Italy\",\"Cyprus\",\"Latvia\",\"Lithuania\",\"Luxembourg\",\"Hungary\",\"Malta\",\"Netherlands\",\"Austria\",\"Poland\",\"Portugal\",\"Romania\",\"Slovenia\",\"Slovakia\",\"Finland\",\"Sweden\",\"Iceland\",\"Liechtenstein\",\"Norway\",\"United Kingdom\",\"Montenegro\",\"North Macedonia\",\"Albania\",\"Serbia\",\"T\\u00fcrkiye\",\"Bosnia and Herzegovina\",\"Kosovo (under United Nations Security Council Resolution 1244/99)\",\"Moldova\",\"Ukraine\",\"Georgia\"],\"name\":\"\",\"z\":[0.0,23.0,176.0,12157.0,2486.0,0.0,0.0,115.0,123.0,896.0,616.0,5080.0,0.0,0.0,115.0,0.0,734.0,0.0,1020.0,902.63,687.0,0.0,4168.0,0.0,13.0,0.0,0.0,0.0,0.0,91322.0,58047.0,0.0,0.0,744.0,866.0,2508.0,0.0,0.0,11.0,2582.0,0.0],\"type\":\"choropleth\"}],\"name\":\"2010\"},{\"data\":[{\"coloraxis\":\"coloraxis\",\"geo\":\"geo\",\"hovertemplate\":\"year=2011<br>country Name=%{location}<br>value=%{z}<extra></extra>\",\"locationmode\":\"country names\",\"locations\":[\"Belgium\",\"Bulgaria\",\"Czechia\",\"Denmark\",\"Germany\",\"Estonia\",\"Ireland\",\"Greece\",\"Spain\",\"France\",\"Croatia\",\"Italy\",\"Cyprus\",\"Latvia\",\"Lithuania\",\"Luxembourg\",\"Hungary\",\"Malta\",\"Netherlands\",\"Austria\",\"Poland\",\"Portugal\",\"Romania\",\"Slovenia\",\"Slovakia\",\"Finland\",\"Sweden\",\"Iceland\",\"Liechtenstein\",\"Norway\",\"United Kingdom\",\"Montenegro\",\"North Macedonia\",\"Albania\",\"Serbia\",\"T\\u00fcrkiye\",\"Bosnia and Herzegovina\",\"Kosovo (under United Nations Security Council Resolution 1244/99)\",\"Moldova\",\"Ukraine\",\"Georgia\"],\"name\":\"\",\"z\":[0.0,22.0,165.0,10941.0,2627.0,0.0,0.0,98.0,100.0,895.0,580.0,5284.0,0.0,0.0,114.0,0.0,659.0,0.0,1081.0,741.593,617.0,0.0,4075.0,0.0,15.0,0.0,0.0,0.0,0.0,85616.0,48571.0,0.0,0.0,895.0,1020.0,2370.0,0.0,0.0,13.0,2438.0,0.0],\"type\":\"choropleth\"}],\"name\":\"2011\"},{\"data\":[{\"coloraxis\":\"coloraxis\",\"geo\":\"geo\",\"hovertemplate\":\"year=2012<br>country Name=%{location}<br>value=%{z}<extra></extra>\",\"locationmode\":\"country names\",\"locations\":[\"Belgium\",\"Bulgaria\",\"Czechia\",\"Denmark\",\"Germany\",\"Estonia\",\"Ireland\",\"Greece\",\"Spain\",\"France\",\"Croatia\",\"Italy\",\"Cyprus\",\"Latvia\",\"Lithuania\",\"Luxembourg\",\"Hungary\",\"Malta\",\"Netherlands\",\"Austria\",\"Poland\",\"Portugal\",\"Romania\",\"Slovenia\",\"Slovakia\",\"Finland\",\"Sweden\",\"Iceland\",\"Liechtenstein\",\"Norway\",\"United Kingdom\",\"Montenegro\",\"North Macedonia\",\"Albania\",\"Serbia\",\"T\\u00fcrkiye\",\"Bosnia and Herzegovina\",\"Kosovo (under United Nations Security Council Resolution 1244/99)\",\"Moldova\",\"Ukraine\",\"Georgia\"],\"name\":\"\",\"z\":[0.0,24.0,156.0,9980.0,2602.0,0.0,0.0,94.0,142.0,807.0,549.0,5397.0,0.0,0.0,102.0,0.0,649.0,0.0,1111.0,840.066,681.0,0.0,3860.0,0.0,11.0,0.0,0.0,0.0,0.0,78453.0,42052.0,0.0,0.0,1031.0,1125.0,2338.0,0.0,0.0,11.0,2290.0,0.0],\"type\":\"choropleth\"}],\"name\":\"2012\"},{\"data\":[{\"coloraxis\":\"coloraxis\",\"geo\":\"geo\",\"hovertemplate\":\"year=2013<br>country Name=%{location}<br>value=%{z}<extra></extra>\",\"locationmode\":\"country names\",\"locations\":[\"Belgium\",\"Bulgaria\",\"Czechia\",\"Denmark\",\"Germany\",\"Estonia\",\"Ireland\",\"Greece\",\"Spain\",\"France\",\"Croatia\",\"Italy\",\"Cyprus\",\"Latvia\",\"Lithuania\",\"Luxembourg\",\"Hungary\",\"Malta\",\"Netherlands\",\"Austria\",\"Poland\",\"Portugal\",\"Romania\",\"Slovenia\",\"Slovakia\",\"Finland\",\"Sweden\",\"Iceland\",\"Liechtenstein\",\"Norway\",\"United Kingdom\",\"Montenegro\",\"North Macedonia\",\"Albania\",\"Serbia\",\"T\\u00fcrkiye\",\"Bosnia and Herzegovina\",\"Kosovo (under United Nations Security Council Resolution 1244/99)\",\"Moldova\",\"Ukraine\",\"Georgia\"],\"name\":\"\",\"z\":[0.0,28.0,154.0,8683.0,2636.0,0.0,0.0,70.0,368.0,793.0,536.0,5502.0,0.0,0.0,86.0,0.0,599.0,0.0,1122.0,842.785,962.0,0.0,4043.0,0.0,10.0,0.0,0.0,0.0,0.0,74380.0,38456.0,0.0,0.0,1207.0,1160.0,2399.0,0.0,0.0,10.0,2172.0,48.0],\"type\":\"choropleth\"}],\"name\":\"2013\"},{\"data\":[{\"coloraxis\":\"coloraxis\",\"geo\":\"geo\",\"hovertemplate\":\"year=2014<br>country Name=%{location}<br>value=%{z}<extra></extra>\",\"locationmode\":\"country names\",\"locations\":[\"Belgium\",\"Bulgaria\",\"Czechia\",\"Denmark\",\"Germany\",\"Estonia\",\"Ireland\",\"Greece\",\"Spain\",\"France\",\"Croatia\",\"Italy\",\"Cyprus\",\"Latvia\",\"Lithuania\",\"Luxembourg\",\"Hungary\",\"Malta\",\"Netherlands\",\"Austria\",\"Poland\",\"Portugal\",\"Romania\",\"Slovenia\",\"Slovakia\",\"Finland\",\"Sweden\",\"Iceland\",\"Liechtenstein\",\"Norway\",\"United Kingdom\",\"Montenegro\",\"North Macedonia\",\"Albania\",\"Serbia\",\"T\\u00fcrkiye\",\"Bosnia and Herzegovina\",\"Kosovo (under United Nations Security Council Resolution 1244/99)\",\"Moldova\",\"Ukraine\",\"Georgia\"],\"name\":\"\",\"z\":[0.0,26.0,150.0,8131.0,2435.0,0.0,0.0,64.0,305.0,766.0,541.0,5765.0,0.0,0.0,82.0,0.0,584.0,0.0,1525.0,952.569,951.0,0.0,3963.0,0.0,9.0,0.0,0.0,0.0,0.0,75691.0,37474.0,0.0,0.0,1368.0,1108.0,2465.0,0.0,0.0,8.0,2042.0,43.0],\"type\":\"choropleth\"}],\"name\":\"2014\"},{\"data\":[{\"coloraxis\":\"coloraxis\",\"geo\":\"geo\",\"hovertemplate\":\"year=2015<br>country Name=%{location}<br>value=%{z}<extra></extra>\",\"locationmode\":\"country names\",\"locations\":[\"Belgium\",\"Bulgaria\",\"Czechia\",\"Denmark\",\"Germany\",\"Estonia\",\"Ireland\",\"Greece\",\"Spain\",\"France\",\"Croatia\",\"Italy\",\"Cyprus\",\"Latvia\",\"Lithuania\",\"Luxembourg\",\"Hungary\",\"Malta\",\"Netherlands\",\"Austria\",\"Poland\",\"Portugal\",\"Romania\",\"Slovenia\",\"Slovakia\",\"Finland\",\"Sweden\",\"Iceland\",\"Liechtenstein\",\"Norway\",\"United Kingdom\",\"Montenegro\",\"North Macedonia\",\"Albania\",\"Serbia\",\"T\\u00fcrkiye\",\"Bosnia and Herzegovina\",\"Kosovo (under United Nations Security Council Resolution 1244/99)\",\"Moldova\",\"Ukraine\",\"Georgia\"],\"name\":\"\",\"z\":[0.0,25.0,128.0,7689.812,2414.0,0.0,0.0,62.0,232.0,835.0,619.0,5470.0,0.0,0.0,75.0,0.0,623.0,0.0,1396.24,854.014,928.0,0.0,3902.0,0.0,10.0,0.0,0.0,0.0,0.0,77899.0,42826.0,0.0,0.0,1279.0,1022.0,2516.0,0.0,0.0,7.0,1877.0,40.0],\"type\":\"choropleth\"}],\"name\":\"2015\"},{\"data\":[{\"coloraxis\":\"coloraxis\",\"geo\":\"geo\",\"hovertemplate\":\"year=2016<br>country Name=%{location}<br>value=%{z}<extra></extra>\",\"locationmode\":\"country names\",\"locations\":[\"Belgium\",\"Bulgaria\",\"Czechia\",\"Denmark\",\"Germany\",\"Estonia\",\"Ireland\",\"Greece\",\"Spain\",\"France\",\"Croatia\",\"Italy\",\"Cyprus\",\"Latvia\",\"Lithuania\",\"Luxembourg\",\"Hungary\",\"Malta\",\"Netherlands\",\"Austria\",\"Poland\",\"Portugal\",\"Romania\",\"Slovenia\",\"Slovakia\",\"Finland\",\"Sweden\",\"Iceland\",\"Liechtenstein\",\"Norway\",\"United Kingdom\",\"Montenegro\",\"North Macedonia\",\"Albania\",\"Serbia\",\"T\\u00fcrkiye\",\"Bosnia and Herzegovina\",\"Kosovo (under United Nations Security Council Resolution 1244/99)\",\"Moldova\",\"Ukraine\",\"Georgia\"],\"name\":\"\",\"z\":[0.0,24.0,117.0,6924.374,2357.0,0.0,0.0,176.0,141.0,815.0,684.0,3746.0,0.0,0.0,64.0,0.0,712.0,0.0,956.58,785.627,1001.0,0.0,3686.0,0.0,8.0,0.0,0.0,0.0,0.0,79836.0,44305.839,0.0,0.0,1056.0,930.0,2573.0,0.0,0.0,6.0,1623.0,39.0],\"type\":\"choropleth\"}],\"name\":\"2016\"},{\"data\":[{\"coloraxis\":\"coloraxis\",\"geo\":\"geo\",\"hovertemplate\":\"year=2017<br>country Name=%{location}<br>value=%{z}<extra></extra>\",\"locationmode\":\"country names\",\"locations\":[\"Belgium\",\"Bulgaria\",\"Czechia\",\"Denmark\",\"Germany\",\"Estonia\",\"Ireland\",\"Greece\",\"Spain\",\"France\",\"Croatia\",\"Italy\",\"Cyprus\",\"Latvia\",\"Lithuania\",\"Luxembourg\",\"Hungary\",\"Malta\",\"Netherlands\",\"Austria\",\"Poland\",\"Portugal\",\"Romania\",\"Slovenia\",\"Slovakia\",\"Finland\",\"Sweden\",\"Iceland\",\"Liechtenstein\",\"Norway\",\"United Kingdom\",\"Montenegro\",\"North Macedonia\",\"Albania\",\"Serbia\",\"T\\u00fcrkiye\",\"Bosnia and Herzegovina\",\"Kosovo (under United Nations Security Council Resolution 1244/99)\",\"Moldova\",\"Ukraine\",\"Georgia\"],\"name\":\"\",\"z\":[0.0,23.904,108.0,6736.967,2217.0,0.0,0.0,141.573,120.0,758.0,689.2,4138.0,0.0,0.0,55.9,0.0,714.0,0.0,951.974,697.907,996.049,0.0,3538.345,0.245,6.0,0.0,0.0,0.0,0.0,78413.0,43184.672,0.0,0.0,958.936,888.932,2553.0,0.0,0.0,5.0,1505.0,32.0],\"type\":\"choropleth\"}],\"name\":\"2017\"},{\"data\":[{\"coloraxis\":\"coloraxis\",\"geo\":\"geo\",\"hovertemplate\":\"year=2018<br>country Name=%{location}<br>value=%{z}<extra></extra>\",\"locationmode\":\"country names\",\"locations\":[\"Belgium\",\"Bulgaria\",\"Czechia\",\"Denmark\",\"Germany\",\"Estonia\",\"Ireland\",\"Greece\",\"Spain\",\"France\",\"Croatia\",\"Italy\",\"Cyprus\",\"Latvia\",\"Lithuania\",\"Luxembourg\",\"Hungary\",\"Malta\",\"Netherlands\",\"Austria\",\"Poland\",\"Portugal\",\"Romania\",\"Slovenia\",\"Slovakia\",\"Finland\",\"Sweden\",\"Iceland\",\"Liechtenstein\",\"Norway\",\"United Kingdom\",\"Montenegro\",\"North Macedonia\",\"Albania\",\"Serbia\",\"T\\u00fcrkiye\",\"Bosnia and Herzegovina\",\"Kosovo (under United Nations Security Council Resolution 1244/99)\",\"Moldova\",\"Ukraine\",\"Georgia\"],\"name\":\"\",\"z\":[0.0,22.47,110.0,5665.787,2070.0,0.0,0.0,206.45,87.0,773.693,688.1,4684.199,0.0,0.0,46.0,0.0,808.0,0.0,900.887,670.467,1010.332,0.0,3485.778,0.271,5.0,0.0,0.0,0.0,0.0,73721.0,47550.49,0.0,0.0,910.67,876.592,2851.0,0.0,0.0,5.1,1624.0,30.2],\"type\":\"choropleth\"}],\"name\":\"2018\"},{\"data\":[{\"coloraxis\":\"coloraxis\",\"geo\":\"geo\",\"hovertemplate\":\"year=2019<br>country Name=%{location}<br>value=%{z}<extra></extra>\",\"locationmode\":\"country names\",\"locations\":[\"Belgium\",\"Bulgaria\",\"Czechia\",\"Denmark\",\"Germany\",\"Estonia\",\"Ireland\",\"Greece\",\"Spain\",\"France\",\"Croatia\",\"Italy\",\"Cyprus\",\"Latvia\",\"Lithuania\",\"Luxembourg\",\"Hungary\",\"Malta\",\"Netherlands\",\"Austria\",\"Poland\",\"Portugal\",\"Romania\",\"Slovenia\",\"Slovakia\",\"Finland\",\"Sweden\",\"Iceland\",\"Liechtenstein\",\"Norway\",\"United Kingdom\",\"Montenegro\",\"North Macedonia\",\"Albania\",\"Serbia\",\"T\\u00fcrkiye\",\"Bosnia and Herzegovina\",\"Kosovo (under United Nations Security Council Resolution 1244/99)\",\"Moldova\",\"Ukraine\",\"Georgia\"],\"name\":\"\",\"z\":[0.0,0.0,81.0,5017.234,1927.0,0.0,0.0,168.489,40.0,725.0,664.0,4278.553,0.0,0.0,39.8,0.0,930.0,0.0,746.744,634.338,972.564,0.0,3439.564,0.266,4.0,0.0,0.0,0.0,0.0,70007.969,48743.324,0.0,0.0,1005.088,850.469,2986.0,0.0,0.0,4.8,1719.1,35.07],\"type\":\"choropleth\"}],\"name\":\"2019\"},{\"data\":[{\"coloraxis\":\"coloraxis\",\"geo\":\"geo\",\"hovertemplate\":\"year=2020<br>country Name=%{location}<br>value=%{z}<extra></extra>\",\"locationmode\":\"country names\",\"locations\":[\"Belgium\",\"Bulgaria\",\"Czechia\",\"Denmark\",\"Germany\",\"Estonia\",\"Ireland\",\"Greece\",\"Spain\",\"France\",\"Croatia\",\"Italy\",\"Cyprus\",\"Latvia\",\"Lithuania\",\"Luxembourg\",\"Hungary\",\"Malta\",\"Netherlands\",\"Austria\",\"Poland\",\"Portugal\",\"Romania\",\"Slovenia\",\"Slovakia\",\"Finland\",\"Sweden\",\"Iceland\",\"Liechtenstein\",\"Norway\",\"United Kingdom\",\"Montenegro\",\"North Macedonia\",\"Albania\",\"Serbia\",\"T\\u00fcrkiye\",\"Bosnia and Herzegovina\",\"Kosovo (under United Nations Security Council Resolution 1244/99)\",\"Moldova\",\"Ukraine\",\"Georgia\"],\"name\":\"\",\"z\":[0.0,0.0,92.0,3520.207,1907.0,0.0,0.0,91.5,28.0,649.676,593.7,5383.941,0.0,0.0,31.5,0.0,841.0,0.0,737.3,547.735,937.462,0.0,3334.019,0.248,2.0,0.0,0.0,0.0,0.0,84378.517,0.0,0.0,0.0,758.17,827.635,3202.924,0.0,0.0,5.4,1674.8,31.293],\"type\":\"choropleth\"}],\"name\":\"2020\"}]);\n",
       "                        }).then(function(){\n",
       "                            \n",
       "var gd = document.getElementById('3b147a90-d402-433f-afef-b2547f6d6c39');\n",
       "var x = new MutationObserver(function (mutations, observer) {{\n",
       "        var display = window.getComputedStyle(gd).display;\n",
       "        if (!display || display === 'none') {{\n",
       "            console.log([gd, 'removed!']);\n",
       "            Plotly.purge(gd);\n",
       "            observer.disconnect();\n",
       "        }}\n",
       "}});\n",
       "\n",
       "// Listen for the removal of the full notebook cells\n",
       "var notebookContainer = gd.closest('#notebook-container');\n",
       "if (notebookContainer) {{\n",
       "    x.observe(notebookContainer, {childList: true});\n",
       "}}\n",
       "\n",
       "// Listen for the clearing of the current output cell\n",
       "var outputEl = gd.closest('.output');\n",
       "if (outputEl) {{\n",
       "    x.observe(outputEl, {childList: true});\n",
       "}}\n",
       "\n",
       "                        })                };                });            </script>        </div>"
      ]
     },
     "metadata": {},
     "output_type": "display_data"
    }
   ],
   "source": [
    "fig = px.choropleth(df,\n",
    "                    locations = \"country Name\",\n",
    "                    locationmode=\"country names\",\n",
    "                    color = 'value',\n",
    "                    color_continuous_scale=\"Viridis\",\n",
    "                    scope=\"europe\",\n",
    "                    animation_frame='year') #make sure 'period_begin' is string type and sorted in ascending order\n",
    "fig.update_layout(\n",
    "    autosize=True,\n",
    "    width=700,\n",
    "    height=500,\n",
    "    margin=dict(\n",
    "        l=10,\n",
    "        r=10,\n",
    "        b=10,\n",
    "        t=10,\n",
    "        pad=1\n",
    "    ),\n",
    ")\n",
    "\n",
    "fig.show()"
   ]
  },
  {
   "cell_type": "code",
   "execution_count": null,
   "id": "56eda422",
   "metadata": {},
   "outputs": [],
   "source": []
  }
 ],
 "metadata": {
  "kernelspec": {
   "display_name": "Python 3 (ipykernel)",
   "language": "python",
   "name": "python3"
  },
  "language_info": {
   "codemirror_mode": {
    "name": "ipython",
    "version": 3
   },
   "file_extension": ".py",
   "mimetype": "text/x-python",
   "name": "python",
   "nbconvert_exporter": "python",
   "pygments_lexer": "ipython3",
   "version": "3.10.4"
  }
 },
 "nbformat": 4,
 "nbformat_minor": 5
}
